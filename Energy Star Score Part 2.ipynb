{
 "cells": [
  {
   "cell_type": "markdown",
   "metadata": {
    "colab_type": "text",
    "id": "bczMaeq3A42z"
   },
   "source": [
    "# Introduction: Machine Learning Project Part 2\n",
    "\n",
    "In this series of notebooks, we are working on a supervised, regression machine learning problem. Using real-world New York City building energy data, we want to predict the Energy Star Score of a building and determine the factors that influence the score.\n",
    "\n",
    "We are using the general outline of the machine learning pipeline to structure our project:\n",
    "\n",
    "1. Data cleaning and formatting\n",
    "2. Exploratory data analysis\n",
    "3. Feature engineering and selection\n",
    "4. Compare several machine learning models on a performance metric\n",
    "5. Perform hyperparameter tuning on the best model to optimize it for the problem\n",
    "6. Evaluate the best model on the testing set\n",
    "7. Interpret the model results to the extent possible\n",
    "8. Draw conclusions and write a well-documented report\n",
    "\n",
    "The first notebook covered steps 1-3, and in this notebook, we will cover 4-6. In this series, I focus more on the implementations rather than the details"
   ]
  },
  {
   "cell_type": "markdown",
   "metadata": {
    "colab_type": "text",
    "id": "huoGMlCeA421"
   },
   "source": [
    "### Imports \n",
    "\n",
    "We will use the standard data science and machine learning libraries in this project. "
   ]
  },
  {
   "cell_type": "code",
   "execution_count": 1,
   "metadata": {
    "colab": {},
    "colab_type": "code",
    "id": "bkzYu4C3zoKt"
   },
   "outputs": [],
   "source": [
    "from sklearn.experimental import enable_iterative_imputer \n",
    "from sklearn.impute import IterativeImputer"
   ]
  },
  {
   "cell_type": "code",
   "execution_count": 0,
   "metadata": {
    "colab": {},
    "colab_type": "code",
    "id": "lyCYN4HJsmFO"
   },
   "outputs": [],
   "source": [
    "#!pip install scikit-learn==0.21.2"
   ]
  },
  {
   "cell_type": "code",
   "execution_count": 8,
   "metadata": {
    "colab": {},
    "colab_type": "code",
    "id": "9fk-YolmA422"
   },
   "outputs": [],
   "source": [
    "# Pandas and numpy for data manipulation\n",
    "import pandas as pd\n",
    "import numpy as np\n",
    "\n",
    "pd.set_option('display.max_columns', None)\n",
    "\n",
    "# Matplotlib for visualization\n",
    "import matplotlib.pyplot as plt\n",
    "%matplotlib inline\n",
    "\n",
    "# Seaborn for visualization\n",
    "import seaborn as sns\n",
    "sns.set(style = 'whitegrid')\n",
    "\n",
    "# Imputing missing values and scaling values\n",
    "from sklearn.preprocessing import MinMaxScaler\n",
    "\n",
    "# Machine Learning Models\n",
    "from sklearn.linear_model import LinearRegression\n",
    "from sklearn.ensemble import RandomForestRegressor, GradientBoostingRegressor\n",
    "from sklearn.neighbors import KNeighborsRegressor\n",
    "\n",
    "# Hyperparameter tuning\n",
    "from sklearn.model_selection import RandomizedSearchCV, GridSearchCV"
   ]
  },
  {
   "cell_type": "markdown",
   "metadata": {
    "colab_type": "text",
    "id": "ouvg8BAmA426"
   },
   "source": [
    "### Read in Data\n",
    "\n",
    "First let's read in the formatted data from the previous notebook. "
   ]
  },
  {
   "cell_type": "code",
   "execution_count": 9,
   "metadata": {
    "colab": {
     "base_uri": "https://localhost:8080/",
     "height": 101
    },
    "colab_type": "code",
    "executionInfo": {
     "elapsed": 1638,
     "status": "ok",
     "timestamp": 1583772770597,
     "user": {
      "displayName": "Sayan Dey",
      "photoUrl": "https://lh3.googleusercontent.com/a-/AOh14GhGdAaAMDWFJQH8pl6eFDU9flchgFMbU_GzEBhtcC8=s64",
      "userId": "03603580465490055794"
     },
     "user_tz": -330
    },
    "id": "yzs8XwYgA427",
    "outputId": "7977cbe9-1fb6-4f26-9440-6df95435489f"
   },
   "outputs": [
    {
     "name": "stdout",
     "output_type": "stream",
     "text": [
      "Training Feature Size:  (6622, 64)\n",
      "Testing Feature Size:   (2839, 64)\n",
      "Training Labels Size:   (6622, 1)\n",
      "Testing Labels Size:    (2839, 1)\n"
     ]
    }
   ],
   "source": [
    "# Read in data into dataframes \n",
    "#from google.colab import drive\n",
    "#drive.mount('/gdrive')\n",
    "train_features = pd.read_csv('training_features.csv')\n",
    "test_features = pd.read_csv('testing_features.csv')\n",
    "train_labels = pd.read_csv('training_labels.csv')\n",
    "test_labels = pd.read_csv('testing_labels.csv')\n",
    "\n",
    "# Display sizes of data\n",
    "print('Training Feature Size: ', train_features.shape)\n",
    "print('Testing Feature Size:  ', test_features.shape)\n",
    "print('Training Labels Size:  ', train_labels.shape)\n",
    "print('Testing Labels Size:   ', test_labels.shape)"
   ]
  },
  {
   "cell_type": "markdown",
   "metadata": {
    "colab_type": "text",
    "id": "69vEaxRHA42-"
   },
   "source": [
    "As a reminder, here is what the formatted data looks like. In the first notebook, we engineered a number features by taking the natural log of the variables, included two categorical variables, and selected a subset of features by removing highly collinear features. "
   ]
  },
  {
   "cell_type": "code",
   "execution_count": 10,
   "metadata": {
    "colab": {
     "base_uri": "https://localhost:8080/",
     "height": 599
    },
    "colab_type": "code",
    "executionInfo": {
     "elapsed": 2081,
     "status": "ok",
     "timestamp": 1583772771611,
     "user": {
      "displayName": "Sayan Dey",
      "photoUrl": "https://lh3.googleusercontent.com/a-/AOh14GhGdAaAMDWFJQH8pl6eFDU9flchgFMbU_GzEBhtcC8=s64",
      "userId": "03603580465490055794"
     },
     "user_tz": -330
    },
    "id": "MUzbonPKA42_",
    "outputId": "f1ddbd63-d871-41af-c246-91ee1c4da218"
   },
   "outputs": [
    {
     "data": {
      "text/html": [
       "<div>\n",
       "<style scoped>\n",
       "    .dataframe tbody tr th:only-of-type {\n",
       "        vertical-align: middle;\n",
       "    }\n",
       "\n",
       "    .dataframe tbody tr th {\n",
       "        vertical-align: top;\n",
       "    }\n",
       "\n",
       "    .dataframe thead th {\n",
       "        text-align: right;\n",
       "    }\n",
       "</style>\n",
       "<table border=\"1\" class=\"dataframe\">\n",
       "  <thead>\n",
       "    <tr style=\"text-align: right;\">\n",
       "      <th></th>\n",
       "      <th>Order</th>\n",
       "      <th>Property Id</th>\n",
       "      <th>DOF Gross Floor Area</th>\n",
       "      <th>Year Built</th>\n",
       "      <th>Number of Buildings - Self-reported</th>\n",
       "      <th>Occupancy</th>\n",
       "      <th>Site EUI (kBtu/ft²)</th>\n",
       "      <th>Weather Normalized Site Electricity Intensity (kWh/ft²)</th>\n",
       "      <th>Weather Normalized Site Natural Gas Intensity (therms/ft²)</th>\n",
       "      <th>Water Intensity (All Water Sources) (gal/ft²)</th>\n",
       "      <th>Latitude</th>\n",
       "      <th>Longitude</th>\n",
       "      <th>Community Board</th>\n",
       "      <th>Census Tract</th>\n",
       "      <th>log_Direct GHG Emissions (Metric Tons CO2e)</th>\n",
       "      <th>log_Water Intensity (All Water Sources) (gal/ft²)</th>\n",
       "      <th>Borough_Staten Island</th>\n",
       "      <th>Largest Property Use Type_Adult Education</th>\n",
       "      <th>Largest Property Use Type_Automobile Dealership</th>\n",
       "      <th>Largest Property Use Type_Bank Branch</th>\n",
       "      <th>Largest Property Use Type_College/University</th>\n",
       "      <th>Largest Property Use Type_Convenience Store without Gas Station</th>\n",
       "      <th>Largest Property Use Type_Courthouse</th>\n",
       "      <th>Largest Property Use Type_Distribution Center</th>\n",
       "      <th>Largest Property Use Type_Enclosed Mall</th>\n",
       "      <th>Largest Property Use Type_Financial Office</th>\n",
       "      <th>Largest Property Use Type_Hospital (General Medical &amp; Surgical)</th>\n",
       "      <th>Largest Property Use Type_Hotel</th>\n",
       "      <th>Largest Property Use Type_K-12 School</th>\n",
       "      <th>Largest Property Use Type_Library</th>\n",
       "      <th>Largest Property Use Type_Mailing Center/Post Office</th>\n",
       "      <th>Largest Property Use Type_Manufacturing/Industrial Plant</th>\n",
       "      <th>Largest Property Use Type_Medical Office</th>\n",
       "      <th>Largest Property Use Type_Movie Theater</th>\n",
       "      <th>Largest Property Use Type_Multifamily Housing</th>\n",
       "      <th>Largest Property Use Type_Museum</th>\n",
       "      <th>Largest Property Use Type_Non-Refrigerated Warehouse</th>\n",
       "      <th>Largest Property Use Type_Other</th>\n",
       "      <th>Largest Property Use Type_Other - Education</th>\n",
       "      <th>Largest Property Use Type_Other - Entertainment/Public Assembly</th>\n",
       "      <th>Largest Property Use Type_Other - Lodging/Residential</th>\n",
       "      <th>Largest Property Use Type_Other - Mall</th>\n",
       "      <th>Largest Property Use Type_Other - Public Services</th>\n",
       "      <th>Largest Property Use Type_Other - Recreation</th>\n",
       "      <th>Largest Property Use Type_Other - Services</th>\n",
       "      <th>Largest Property Use Type_Other - Specialty Hospital</th>\n",
       "      <th>Largest Property Use Type_Outpatient Rehabilitation/Physical Therapy</th>\n",
       "      <th>Largest Property Use Type_Parking</th>\n",
       "      <th>Largest Property Use Type_Performing Arts</th>\n",
       "      <th>Largest Property Use Type_Pre-school/Daycare</th>\n",
       "      <th>Largest Property Use Type_Refrigerated Warehouse</th>\n",
       "      <th>Largest Property Use Type_Repair Services (Vehicle, Shoe, Locksmith, etc.)</th>\n",
       "      <th>Largest Property Use Type_Residence Hall/Dormitory</th>\n",
       "      <th>Largest Property Use Type_Residential Care Facility</th>\n",
       "      <th>Largest Property Use Type_Restaurant</th>\n",
       "      <th>Largest Property Use Type_Retail Store</th>\n",
       "      <th>Largest Property Use Type_Self-Storage Facility</th>\n",
       "      <th>Largest Property Use Type_Senior Care Community</th>\n",
       "      <th>Largest Property Use Type_Social/Meeting Hall</th>\n",
       "      <th>Largest Property Use Type_Strip Mall</th>\n",
       "      <th>Largest Property Use Type_Supermarket/Grocery Store</th>\n",
       "      <th>Largest Property Use Type_Urgent Care/Clinic/Other Outpatient</th>\n",
       "      <th>Largest Property Use Type_Wholesale Club/Supercenter</th>\n",
       "      <th>Largest Property Use Type_Worship Facility</th>\n",
       "    </tr>\n",
       "  </thead>\n",
       "  <tbody>\n",
       "    <tr>\n",
       "      <th>0</th>\n",
       "      <td>13276</td>\n",
       "      <td>5849784</td>\n",
       "      <td>90300.0</td>\n",
       "      <td>1950</td>\n",
       "      <td>1</td>\n",
       "      <td>100</td>\n",
       "      <td>126.0</td>\n",
       "      <td>5.2</td>\n",
       "      <td>1.2</td>\n",
       "      <td>99.41</td>\n",
       "      <td>NaN</td>\n",
       "      <td>NaN</td>\n",
       "      <td>NaN</td>\n",
       "      <td>NaN</td>\n",
       "      <td>6.088818</td>\n",
       "      <td>4.599253</td>\n",
       "      <td>0</td>\n",
       "      <td>0</td>\n",
       "      <td>0</td>\n",
       "      <td>0</td>\n",
       "      <td>0</td>\n",
       "      <td>0</td>\n",
       "      <td>0</td>\n",
       "      <td>0</td>\n",
       "      <td>0</td>\n",
       "      <td>0</td>\n",
       "      <td>0</td>\n",
       "      <td>0</td>\n",
       "      <td>0</td>\n",
       "      <td>0</td>\n",
       "      <td>0</td>\n",
       "      <td>0</td>\n",
       "      <td>0</td>\n",
       "      <td>0</td>\n",
       "      <td>1</td>\n",
       "      <td>0</td>\n",
       "      <td>0</td>\n",
       "      <td>0</td>\n",
       "      <td>0</td>\n",
       "      <td>0</td>\n",
       "      <td>0</td>\n",
       "      <td>0</td>\n",
       "      <td>0</td>\n",
       "      <td>0</td>\n",
       "      <td>0</td>\n",
       "      <td>0</td>\n",
       "      <td>0</td>\n",
       "      <td>0</td>\n",
       "      <td>0</td>\n",
       "      <td>0</td>\n",
       "      <td>0</td>\n",
       "      <td>0</td>\n",
       "      <td>0</td>\n",
       "      <td>0</td>\n",
       "      <td>0</td>\n",
       "      <td>0</td>\n",
       "      <td>0</td>\n",
       "      <td>0</td>\n",
       "      <td>0</td>\n",
       "      <td>0</td>\n",
       "      <td>0</td>\n",
       "      <td>0</td>\n",
       "      <td>0</td>\n",
       "      <td>0</td>\n",
       "    </tr>\n",
       "    <tr>\n",
       "      <th>1</th>\n",
       "      <td>7377</td>\n",
       "      <td>4398442</td>\n",
       "      <td>52000.0</td>\n",
       "      <td>1926</td>\n",
       "      <td>1</td>\n",
       "      <td>100</td>\n",
       "      <td>95.4</td>\n",
       "      <td>4.7</td>\n",
       "      <td>0.9</td>\n",
       "      <td>NaN</td>\n",
       "      <td>40.835496</td>\n",
       "      <td>-73.887745</td>\n",
       "      <td>3.0</td>\n",
       "      <td>161.0</td>\n",
       "      <td>5.384036</td>\n",
       "      <td>NaN</td>\n",
       "      <td>0</td>\n",
       "      <td>0</td>\n",
       "      <td>0</td>\n",
       "      <td>0</td>\n",
       "      <td>0</td>\n",
       "      <td>0</td>\n",
       "      <td>0</td>\n",
       "      <td>0</td>\n",
       "      <td>0</td>\n",
       "      <td>0</td>\n",
       "      <td>0</td>\n",
       "      <td>0</td>\n",
       "      <td>0</td>\n",
       "      <td>0</td>\n",
       "      <td>0</td>\n",
       "      <td>0</td>\n",
       "      <td>0</td>\n",
       "      <td>0</td>\n",
       "      <td>1</td>\n",
       "      <td>0</td>\n",
       "      <td>0</td>\n",
       "      <td>0</td>\n",
       "      <td>0</td>\n",
       "      <td>0</td>\n",
       "      <td>0</td>\n",
       "      <td>0</td>\n",
       "      <td>0</td>\n",
       "      <td>0</td>\n",
       "      <td>0</td>\n",
       "      <td>0</td>\n",
       "      <td>0</td>\n",
       "      <td>0</td>\n",
       "      <td>0</td>\n",
       "      <td>0</td>\n",
       "      <td>0</td>\n",
       "      <td>0</td>\n",
       "      <td>0</td>\n",
       "      <td>0</td>\n",
       "      <td>0</td>\n",
       "      <td>0</td>\n",
       "      <td>0</td>\n",
       "      <td>0</td>\n",
       "      <td>0</td>\n",
       "      <td>0</td>\n",
       "      <td>0</td>\n",
       "      <td>0</td>\n",
       "      <td>0</td>\n",
       "      <td>0</td>\n",
       "    </tr>\n",
       "    <tr>\n",
       "      <th>2</th>\n",
       "      <td>9479</td>\n",
       "      <td>4665374</td>\n",
       "      <td>104700.0</td>\n",
       "      <td>1954</td>\n",
       "      <td>1</td>\n",
       "      <td>100</td>\n",
       "      <td>40.4</td>\n",
       "      <td>3.8</td>\n",
       "      <td>0.3</td>\n",
       "      <td>NaN</td>\n",
       "      <td>40.663206</td>\n",
       "      <td>-73.949469</td>\n",
       "      <td>9.0</td>\n",
       "      <td>329.0</td>\n",
       "      <td>5.017280</td>\n",
       "      <td>NaN</td>\n",
       "      <td>0</td>\n",
       "      <td>0</td>\n",
       "      <td>0</td>\n",
       "      <td>0</td>\n",
       "      <td>0</td>\n",
       "      <td>0</td>\n",
       "      <td>0</td>\n",
       "      <td>0</td>\n",
       "      <td>0</td>\n",
       "      <td>0</td>\n",
       "      <td>0</td>\n",
       "      <td>0</td>\n",
       "      <td>0</td>\n",
       "      <td>0</td>\n",
       "      <td>0</td>\n",
       "      <td>0</td>\n",
       "      <td>0</td>\n",
       "      <td>0</td>\n",
       "      <td>1</td>\n",
       "      <td>0</td>\n",
       "      <td>0</td>\n",
       "      <td>0</td>\n",
       "      <td>0</td>\n",
       "      <td>0</td>\n",
       "      <td>0</td>\n",
       "      <td>0</td>\n",
       "      <td>0</td>\n",
       "      <td>0</td>\n",
       "      <td>0</td>\n",
       "      <td>0</td>\n",
       "      <td>0</td>\n",
       "      <td>0</td>\n",
       "      <td>0</td>\n",
       "      <td>0</td>\n",
       "      <td>0</td>\n",
       "      <td>0</td>\n",
       "      <td>0</td>\n",
       "      <td>0</td>\n",
       "      <td>0</td>\n",
       "      <td>0</td>\n",
       "      <td>0</td>\n",
       "      <td>0</td>\n",
       "      <td>0</td>\n",
       "      <td>0</td>\n",
       "      <td>0</td>\n",
       "      <td>0</td>\n",
       "      <td>0</td>\n",
       "      <td>0</td>\n",
       "    </tr>\n",
       "    <tr>\n",
       "      <th>3</th>\n",
       "      <td>14774</td>\n",
       "      <td>3393340</td>\n",
       "      <td>129333.0</td>\n",
       "      <td>1992</td>\n",
       "      <td>1</td>\n",
       "      <td>100</td>\n",
       "      <td>157.1</td>\n",
       "      <td>16.9</td>\n",
       "      <td>1.1</td>\n",
       "      <td>NaN</td>\n",
       "      <td>40.622968</td>\n",
       "      <td>-74.078742</td>\n",
       "      <td>1.0</td>\n",
       "      <td>27.0</td>\n",
       "      <td>6.510853</td>\n",
       "      <td>NaN</td>\n",
       "      <td>1</td>\n",
       "      <td>0</td>\n",
       "      <td>0</td>\n",
       "      <td>0</td>\n",
       "      <td>0</td>\n",
       "      <td>0</td>\n",
       "      <td>0</td>\n",
       "      <td>0</td>\n",
       "      <td>0</td>\n",
       "      <td>0</td>\n",
       "      <td>0</td>\n",
       "      <td>0</td>\n",
       "      <td>0</td>\n",
       "      <td>0</td>\n",
       "      <td>0</td>\n",
       "      <td>0</td>\n",
       "      <td>0</td>\n",
       "      <td>0</td>\n",
       "      <td>0</td>\n",
       "      <td>0</td>\n",
       "      <td>0</td>\n",
       "      <td>0</td>\n",
       "      <td>0</td>\n",
       "      <td>0</td>\n",
       "      <td>0</td>\n",
       "      <td>0</td>\n",
       "      <td>0</td>\n",
       "      <td>0</td>\n",
       "      <td>0</td>\n",
       "      <td>0</td>\n",
       "      <td>0</td>\n",
       "      <td>0</td>\n",
       "      <td>0</td>\n",
       "      <td>0</td>\n",
       "      <td>0</td>\n",
       "      <td>0</td>\n",
       "      <td>0</td>\n",
       "      <td>0</td>\n",
       "      <td>0</td>\n",
       "      <td>0</td>\n",
       "      <td>0</td>\n",
       "      <td>1</td>\n",
       "      <td>0</td>\n",
       "      <td>0</td>\n",
       "      <td>0</td>\n",
       "      <td>0</td>\n",
       "      <td>0</td>\n",
       "      <td>0</td>\n",
       "    </tr>\n",
       "    <tr>\n",
       "      <th>4</th>\n",
       "      <td>3286</td>\n",
       "      <td>2704325</td>\n",
       "      <td>109896.0</td>\n",
       "      <td>1927</td>\n",
       "      <td>1</td>\n",
       "      <td>100</td>\n",
       "      <td>62.3</td>\n",
       "      <td>3.5</td>\n",
       "      <td>0.0</td>\n",
       "      <td>28.65</td>\n",
       "      <td>40.782421</td>\n",
       "      <td>-73.972622</td>\n",
       "      <td>7.0</td>\n",
       "      <td>165.0</td>\n",
       "      <td>6.123589</td>\n",
       "      <td>3.355153</td>\n",
       "      <td>0</td>\n",
       "      <td>0</td>\n",
       "      <td>0</td>\n",
       "      <td>0</td>\n",
       "      <td>0</td>\n",
       "      <td>0</td>\n",
       "      <td>0</td>\n",
       "      <td>0</td>\n",
       "      <td>0</td>\n",
       "      <td>0</td>\n",
       "      <td>0</td>\n",
       "      <td>0</td>\n",
       "      <td>0</td>\n",
       "      <td>0</td>\n",
       "      <td>0</td>\n",
       "      <td>0</td>\n",
       "      <td>0</td>\n",
       "      <td>0</td>\n",
       "      <td>1</td>\n",
       "      <td>0</td>\n",
       "      <td>0</td>\n",
       "      <td>0</td>\n",
       "      <td>0</td>\n",
       "      <td>0</td>\n",
       "      <td>0</td>\n",
       "      <td>0</td>\n",
       "      <td>0</td>\n",
       "      <td>0</td>\n",
       "      <td>0</td>\n",
       "      <td>0</td>\n",
       "      <td>0</td>\n",
       "      <td>0</td>\n",
       "      <td>0</td>\n",
       "      <td>0</td>\n",
       "      <td>0</td>\n",
       "      <td>0</td>\n",
       "      <td>0</td>\n",
       "      <td>0</td>\n",
       "      <td>0</td>\n",
       "      <td>0</td>\n",
       "      <td>0</td>\n",
       "      <td>0</td>\n",
       "      <td>0</td>\n",
       "      <td>0</td>\n",
       "      <td>0</td>\n",
       "      <td>0</td>\n",
       "      <td>0</td>\n",
       "      <td>0</td>\n",
       "    </tr>\n",
       "    <tr>\n",
       "      <th>5</th>\n",
       "      <td>1060</td>\n",
       "      <td>2430725</td>\n",
       "      <td>182655.0</td>\n",
       "      <td>1929</td>\n",
       "      <td>1</td>\n",
       "      <td>90</td>\n",
       "      <td>52.9</td>\n",
       "      <td>9.7</td>\n",
       "      <td>0.2</td>\n",
       "      <td>4.80</td>\n",
       "      <td>40.725136</td>\n",
       "      <td>-74.004438</td>\n",
       "      <td>2.0</td>\n",
       "      <td>37.0</td>\n",
       "      <td>5.516649</td>\n",
       "      <td>1.568616</td>\n",
       "      <td>0</td>\n",
       "      <td>0</td>\n",
       "      <td>0</td>\n",
       "      <td>0</td>\n",
       "      <td>0</td>\n",
       "      <td>0</td>\n",
       "      <td>0</td>\n",
       "      <td>0</td>\n",
       "      <td>0</td>\n",
       "      <td>0</td>\n",
       "      <td>0</td>\n",
       "      <td>0</td>\n",
       "      <td>0</td>\n",
       "      <td>0</td>\n",
       "      <td>0</td>\n",
       "      <td>0</td>\n",
       "      <td>0</td>\n",
       "      <td>0</td>\n",
       "      <td>0</td>\n",
       "      <td>0</td>\n",
       "      <td>0</td>\n",
       "      <td>0</td>\n",
       "      <td>0</td>\n",
       "      <td>0</td>\n",
       "      <td>0</td>\n",
       "      <td>0</td>\n",
       "      <td>0</td>\n",
       "      <td>0</td>\n",
       "      <td>0</td>\n",
       "      <td>0</td>\n",
       "      <td>0</td>\n",
       "      <td>0</td>\n",
       "      <td>0</td>\n",
       "      <td>0</td>\n",
       "      <td>0</td>\n",
       "      <td>0</td>\n",
       "      <td>0</td>\n",
       "      <td>0</td>\n",
       "      <td>0</td>\n",
       "      <td>0</td>\n",
       "      <td>0</td>\n",
       "      <td>0</td>\n",
       "      <td>0</td>\n",
       "      <td>0</td>\n",
       "      <td>0</td>\n",
       "      <td>0</td>\n",
       "      <td>0</td>\n",
       "      <td>0</td>\n",
       "    </tr>\n",
       "    <tr>\n",
       "      <th>6</th>\n",
       "      <td>10846</td>\n",
       "      <td>5737475</td>\n",
       "      <td>65400.0</td>\n",
       "      <td>1942</td>\n",
       "      <td>1</td>\n",
       "      <td>100</td>\n",
       "      <td>66.8</td>\n",
       "      <td>3.0</td>\n",
       "      <td>0.6</td>\n",
       "      <td>67.14</td>\n",
       "      <td>40.637833</td>\n",
       "      <td>-73.973045</td>\n",
       "      <td>12.0</td>\n",
       "      <td>490.0</td>\n",
       "      <td>5.426271</td>\n",
       "      <td>4.206780</td>\n",
       "      <td>0</td>\n",
       "      <td>0</td>\n",
       "      <td>0</td>\n",
       "      <td>0</td>\n",
       "      <td>0</td>\n",
       "      <td>0</td>\n",
       "      <td>0</td>\n",
       "      <td>0</td>\n",
       "      <td>0</td>\n",
       "      <td>0</td>\n",
       "      <td>0</td>\n",
       "      <td>0</td>\n",
       "      <td>0</td>\n",
       "      <td>0</td>\n",
       "      <td>0</td>\n",
       "      <td>0</td>\n",
       "      <td>0</td>\n",
       "      <td>0</td>\n",
       "      <td>1</td>\n",
       "      <td>0</td>\n",
       "      <td>0</td>\n",
       "      <td>0</td>\n",
       "      <td>0</td>\n",
       "      <td>0</td>\n",
       "      <td>0</td>\n",
       "      <td>0</td>\n",
       "      <td>0</td>\n",
       "      <td>0</td>\n",
       "      <td>0</td>\n",
       "      <td>0</td>\n",
       "      <td>0</td>\n",
       "      <td>0</td>\n",
       "      <td>0</td>\n",
       "      <td>0</td>\n",
       "      <td>0</td>\n",
       "      <td>0</td>\n",
       "      <td>0</td>\n",
       "      <td>0</td>\n",
       "      <td>0</td>\n",
       "      <td>0</td>\n",
       "      <td>0</td>\n",
       "      <td>0</td>\n",
       "      <td>0</td>\n",
       "      <td>0</td>\n",
       "      <td>0</td>\n",
       "      <td>0</td>\n",
       "      <td>0</td>\n",
       "      <td>0</td>\n",
       "    </tr>\n",
       "    <tr>\n",
       "      <th>7</th>\n",
       "      <td>4280</td>\n",
       "      <td>2670505</td>\n",
       "      <td>113150.0</td>\n",
       "      <td>1938</td>\n",
       "      <td>1</td>\n",
       "      <td>100</td>\n",
       "      <td>78.4</td>\n",
       "      <td>5.7</td>\n",
       "      <td>NaN</td>\n",
       "      <td>30.73</td>\n",
       "      <td>40.776035</td>\n",
       "      <td>-73.964418</td>\n",
       "      <td>8.0</td>\n",
       "      <td>142.0</td>\n",
       "      <td>6.067036</td>\n",
       "      <td>3.425239</td>\n",
       "      <td>0</td>\n",
       "      <td>0</td>\n",
       "      <td>0</td>\n",
       "      <td>0</td>\n",
       "      <td>0</td>\n",
       "      <td>0</td>\n",
       "      <td>0</td>\n",
       "      <td>0</td>\n",
       "      <td>0</td>\n",
       "      <td>0</td>\n",
       "      <td>0</td>\n",
       "      <td>0</td>\n",
       "      <td>0</td>\n",
       "      <td>0</td>\n",
       "      <td>0</td>\n",
       "      <td>0</td>\n",
       "      <td>0</td>\n",
       "      <td>0</td>\n",
       "      <td>1</td>\n",
       "      <td>0</td>\n",
       "      <td>0</td>\n",
       "      <td>0</td>\n",
       "      <td>0</td>\n",
       "      <td>0</td>\n",
       "      <td>0</td>\n",
       "      <td>0</td>\n",
       "      <td>0</td>\n",
       "      <td>0</td>\n",
       "      <td>0</td>\n",
       "      <td>0</td>\n",
       "      <td>0</td>\n",
       "      <td>0</td>\n",
       "      <td>0</td>\n",
       "      <td>0</td>\n",
       "      <td>0</td>\n",
       "      <td>0</td>\n",
       "      <td>0</td>\n",
       "      <td>0</td>\n",
       "      <td>0</td>\n",
       "      <td>0</td>\n",
       "      <td>0</td>\n",
       "      <td>0</td>\n",
       "      <td>0</td>\n",
       "      <td>0</td>\n",
       "      <td>0</td>\n",
       "      <td>0</td>\n",
       "      <td>0</td>\n",
       "      <td>0</td>\n",
       "    </tr>\n",
       "    <tr>\n",
       "      <th>8</th>\n",
       "      <td>12974</td>\n",
       "      <td>2964670</td>\n",
       "      <td>137700.0</td>\n",
       "      <td>1959</td>\n",
       "      <td>1</td>\n",
       "      <td>100</td>\n",
       "      <td>63.0</td>\n",
       "      <td>3.4</td>\n",
       "      <td>0.5</td>\n",
       "      <td>41.96</td>\n",
       "      <td>NaN</td>\n",
       "      <td>NaN</td>\n",
       "      <td>NaN</td>\n",
       "      <td>NaN</td>\n",
       "      <td>6.170447</td>\n",
       "      <td>3.736717</td>\n",
       "      <td>0</td>\n",
       "      <td>0</td>\n",
       "      <td>0</td>\n",
       "      <td>0</td>\n",
       "      <td>0</td>\n",
       "      <td>0</td>\n",
       "      <td>0</td>\n",
       "      <td>0</td>\n",
       "      <td>0</td>\n",
       "      <td>0</td>\n",
       "      <td>0</td>\n",
       "      <td>0</td>\n",
       "      <td>0</td>\n",
       "      <td>0</td>\n",
       "      <td>0</td>\n",
       "      <td>0</td>\n",
       "      <td>0</td>\n",
       "      <td>0</td>\n",
       "      <td>1</td>\n",
       "      <td>0</td>\n",
       "      <td>0</td>\n",
       "      <td>0</td>\n",
       "      <td>0</td>\n",
       "      <td>0</td>\n",
       "      <td>0</td>\n",
       "      <td>0</td>\n",
       "      <td>0</td>\n",
       "      <td>0</td>\n",
       "      <td>0</td>\n",
       "      <td>0</td>\n",
       "      <td>0</td>\n",
       "      <td>0</td>\n",
       "      <td>0</td>\n",
       "      <td>0</td>\n",
       "      <td>0</td>\n",
       "      <td>0</td>\n",
       "      <td>0</td>\n",
       "      <td>0</td>\n",
       "      <td>0</td>\n",
       "      <td>0</td>\n",
       "      <td>0</td>\n",
       "      <td>0</td>\n",
       "      <td>0</td>\n",
       "      <td>0</td>\n",
       "      <td>0</td>\n",
       "      <td>0</td>\n",
       "      <td>0</td>\n",
       "      <td>0</td>\n",
       "    </tr>\n",
       "    <tr>\n",
       "      <th>9</th>\n",
       "      <td>13244</td>\n",
       "      <td>4414693</td>\n",
       "      <td>63693.0</td>\n",
       "      <td>1941</td>\n",
       "      <td>1</td>\n",
       "      <td>100</td>\n",
       "      <td>97.8</td>\n",
       "      <td>4.3</td>\n",
       "      <td>0.8</td>\n",
       "      <td>86.88</td>\n",
       "      <td>NaN</td>\n",
       "      <td>NaN</td>\n",
       "      <td>NaN</td>\n",
       "      <td>NaN</td>\n",
       "      <td>5.680855</td>\n",
       "      <td>4.464528</td>\n",
       "      <td>0</td>\n",
       "      <td>0</td>\n",
       "      <td>0</td>\n",
       "      <td>0</td>\n",
       "      <td>0</td>\n",
       "      <td>0</td>\n",
       "      <td>0</td>\n",
       "      <td>0</td>\n",
       "      <td>0</td>\n",
       "      <td>0</td>\n",
       "      <td>0</td>\n",
       "      <td>0</td>\n",
       "      <td>0</td>\n",
       "      <td>0</td>\n",
       "      <td>0</td>\n",
       "      <td>0</td>\n",
       "      <td>0</td>\n",
       "      <td>0</td>\n",
       "      <td>1</td>\n",
       "      <td>0</td>\n",
       "      <td>0</td>\n",
       "      <td>0</td>\n",
       "      <td>0</td>\n",
       "      <td>0</td>\n",
       "      <td>0</td>\n",
       "      <td>0</td>\n",
       "      <td>0</td>\n",
       "      <td>0</td>\n",
       "      <td>0</td>\n",
       "      <td>0</td>\n",
       "      <td>0</td>\n",
       "      <td>0</td>\n",
       "      <td>0</td>\n",
       "      <td>0</td>\n",
       "      <td>0</td>\n",
       "      <td>0</td>\n",
       "      <td>0</td>\n",
       "      <td>0</td>\n",
       "      <td>0</td>\n",
       "      <td>0</td>\n",
       "      <td>0</td>\n",
       "      <td>0</td>\n",
       "      <td>0</td>\n",
       "      <td>0</td>\n",
       "      <td>0</td>\n",
       "      <td>0</td>\n",
       "      <td>0</td>\n",
       "      <td>0</td>\n",
       "    </tr>\n",
       "    <tr>\n",
       "      <th>10</th>\n",
       "      <td>3903</td>\n",
       "      <td>2669664</td>\n",
       "      <td>82644.0</td>\n",
       "      <td>1922</td>\n",
       "      <td>1</td>\n",
       "      <td>100</td>\n",
       "      <td>55.4</td>\n",
       "      <td>4.5</td>\n",
       "      <td>0.0</td>\n",
       "      <td>NaN</td>\n",
       "      <td>40.762510</td>\n",
       "      <td>-73.970085</td>\n",
       "      <td>5.0</td>\n",
       "      <td>11203.0</td>\n",
       "      <td>1.335001</td>\n",
       "      <td>NaN</td>\n",
       "      <td>0</td>\n",
       "      <td>0</td>\n",
       "      <td>0</td>\n",
       "      <td>0</td>\n",
       "      <td>0</td>\n",
       "      <td>0</td>\n",
       "      <td>0</td>\n",
       "      <td>0</td>\n",
       "      <td>0</td>\n",
       "      <td>0</td>\n",
       "      <td>0</td>\n",
       "      <td>0</td>\n",
       "      <td>0</td>\n",
       "      <td>0</td>\n",
       "      <td>0</td>\n",
       "      <td>0</td>\n",
       "      <td>0</td>\n",
       "      <td>0</td>\n",
       "      <td>1</td>\n",
       "      <td>0</td>\n",
       "      <td>0</td>\n",
       "      <td>0</td>\n",
       "      <td>0</td>\n",
       "      <td>0</td>\n",
       "      <td>0</td>\n",
       "      <td>0</td>\n",
       "      <td>0</td>\n",
       "      <td>0</td>\n",
       "      <td>0</td>\n",
       "      <td>0</td>\n",
       "      <td>0</td>\n",
       "      <td>0</td>\n",
       "      <td>0</td>\n",
       "      <td>0</td>\n",
       "      <td>0</td>\n",
       "      <td>0</td>\n",
       "      <td>0</td>\n",
       "      <td>0</td>\n",
       "      <td>0</td>\n",
       "      <td>0</td>\n",
       "      <td>0</td>\n",
       "      <td>0</td>\n",
       "      <td>0</td>\n",
       "      <td>0</td>\n",
       "      <td>0</td>\n",
       "      <td>0</td>\n",
       "      <td>0</td>\n",
       "      <td>0</td>\n",
       "    </tr>\n",
       "    <tr>\n",
       "      <th>11</th>\n",
       "      <td>8336</td>\n",
       "      <td>2809354</td>\n",
       "      <td>51317.0</td>\n",
       "      <td>1925</td>\n",
       "      <td>1</td>\n",
       "      <td>100</td>\n",
       "      <td>118.7</td>\n",
       "      <td>3.6</td>\n",
       "      <td>1.1</td>\n",
       "      <td>NaN</td>\n",
       "      <td>40.849372</td>\n",
       "      <td>-73.832075</td>\n",
       "      <td>10.0</td>\n",
       "      <td>26601.0</td>\n",
       "      <td>5.662960</td>\n",
       "      <td>NaN</td>\n",
       "      <td>0</td>\n",
       "      <td>0</td>\n",
       "      <td>0</td>\n",
       "      <td>0</td>\n",
       "      <td>0</td>\n",
       "      <td>0</td>\n",
       "      <td>0</td>\n",
       "      <td>0</td>\n",
       "      <td>0</td>\n",
       "      <td>0</td>\n",
       "      <td>0</td>\n",
       "      <td>0</td>\n",
       "      <td>0</td>\n",
       "      <td>0</td>\n",
       "      <td>0</td>\n",
       "      <td>0</td>\n",
       "      <td>0</td>\n",
       "      <td>0</td>\n",
       "      <td>1</td>\n",
       "      <td>0</td>\n",
       "      <td>0</td>\n",
       "      <td>0</td>\n",
       "      <td>0</td>\n",
       "      <td>0</td>\n",
       "      <td>0</td>\n",
       "      <td>0</td>\n",
       "      <td>0</td>\n",
       "      <td>0</td>\n",
       "      <td>0</td>\n",
       "      <td>0</td>\n",
       "      <td>0</td>\n",
       "      <td>0</td>\n",
       "      <td>0</td>\n",
       "      <td>0</td>\n",
       "      <td>0</td>\n",
       "      <td>0</td>\n",
       "      <td>0</td>\n",
       "      <td>0</td>\n",
       "      <td>0</td>\n",
       "      <td>0</td>\n",
       "      <td>0</td>\n",
       "      <td>0</td>\n",
       "      <td>0</td>\n",
       "      <td>0</td>\n",
       "      <td>0</td>\n",
       "      <td>0</td>\n",
       "      <td>0</td>\n",
       "      <td>0</td>\n",
       "    </tr>\n",
       "  </tbody>\n",
       "</table>\n",
       "</div>"
      ],
      "text/plain": [
       "    Order  Property Id  DOF Gross Floor Area  Year Built  \\\n",
       "0   13276      5849784               90300.0        1950   \n",
       "1    7377      4398442               52000.0        1926   \n",
       "2    9479      4665374              104700.0        1954   \n",
       "3   14774      3393340              129333.0        1992   \n",
       "4    3286      2704325              109896.0        1927   \n",
       "5    1060      2430725              182655.0        1929   \n",
       "6   10846      5737475               65400.0        1942   \n",
       "7    4280      2670505              113150.0        1938   \n",
       "8   12974      2964670              137700.0        1959   \n",
       "9   13244      4414693               63693.0        1941   \n",
       "10   3903      2669664               82644.0        1922   \n",
       "11   8336      2809354               51317.0        1925   \n",
       "\n",
       "    Number of Buildings - Self-reported  Occupancy  Site EUI (kBtu/ft²)  \\\n",
       "0                                     1        100                126.0   \n",
       "1                                     1        100                 95.4   \n",
       "2                                     1        100                 40.4   \n",
       "3                                     1        100                157.1   \n",
       "4                                     1        100                 62.3   \n",
       "5                                     1         90                 52.9   \n",
       "6                                     1        100                 66.8   \n",
       "7                                     1        100                 78.4   \n",
       "8                                     1        100                 63.0   \n",
       "9                                     1        100                 97.8   \n",
       "10                                    1        100                 55.4   \n",
       "11                                    1        100                118.7   \n",
       "\n",
       "    Weather Normalized Site Electricity Intensity (kWh/ft²)  \\\n",
       "0                                                 5.2         \n",
       "1                                                 4.7         \n",
       "2                                                 3.8         \n",
       "3                                                16.9         \n",
       "4                                                 3.5         \n",
       "5                                                 9.7         \n",
       "6                                                 3.0         \n",
       "7                                                 5.7         \n",
       "8                                                 3.4         \n",
       "9                                                 4.3         \n",
       "10                                                4.5         \n",
       "11                                                3.6         \n",
       "\n",
       "    Weather Normalized Site Natural Gas Intensity (therms/ft²)  \\\n",
       "0                                                 1.2            \n",
       "1                                                 0.9            \n",
       "2                                                 0.3            \n",
       "3                                                 1.1            \n",
       "4                                                 0.0            \n",
       "5                                                 0.2            \n",
       "6                                                 0.6            \n",
       "7                                                 NaN            \n",
       "8                                                 0.5            \n",
       "9                                                 0.8            \n",
       "10                                                0.0            \n",
       "11                                                1.1            \n",
       "\n",
       "    Water Intensity (All Water Sources) (gal/ft²)   Latitude  Longitude  \\\n",
       "0                                           99.41        NaN        NaN   \n",
       "1                                             NaN  40.835496 -73.887745   \n",
       "2                                             NaN  40.663206 -73.949469   \n",
       "3                                             NaN  40.622968 -74.078742   \n",
       "4                                           28.65  40.782421 -73.972622   \n",
       "5                                            4.80  40.725136 -74.004438   \n",
       "6                                           67.14  40.637833 -73.973045   \n",
       "7                                           30.73  40.776035 -73.964418   \n",
       "8                                           41.96        NaN        NaN   \n",
       "9                                           86.88        NaN        NaN   \n",
       "10                                            NaN  40.762510 -73.970085   \n",
       "11                                            NaN  40.849372 -73.832075   \n",
       "\n",
       "    Community Board  Census Tract  \\\n",
       "0               NaN           NaN   \n",
       "1               3.0         161.0   \n",
       "2               9.0         329.0   \n",
       "3               1.0          27.0   \n",
       "4               7.0         165.0   \n",
       "5               2.0          37.0   \n",
       "6              12.0         490.0   \n",
       "7               8.0         142.0   \n",
       "8               NaN           NaN   \n",
       "9               NaN           NaN   \n",
       "10              5.0       11203.0   \n",
       "11             10.0       26601.0   \n",
       "\n",
       "    log_Direct GHG Emissions (Metric Tons CO2e)  \\\n",
       "0                                      6.088818   \n",
       "1                                      5.384036   \n",
       "2                                      5.017280   \n",
       "3                                      6.510853   \n",
       "4                                      6.123589   \n",
       "5                                      5.516649   \n",
       "6                                      5.426271   \n",
       "7                                      6.067036   \n",
       "8                                      6.170447   \n",
       "9                                      5.680855   \n",
       "10                                     1.335001   \n",
       "11                                     5.662960   \n",
       "\n",
       "    log_Water Intensity (All Water Sources) (gal/ft²)  Borough_Staten Island  \\\n",
       "0                                            4.599253                      0   \n",
       "1                                                 NaN                      0   \n",
       "2                                                 NaN                      0   \n",
       "3                                                 NaN                      1   \n",
       "4                                            3.355153                      0   \n",
       "5                                            1.568616                      0   \n",
       "6                                            4.206780                      0   \n",
       "7                                            3.425239                      0   \n",
       "8                                            3.736717                      0   \n",
       "9                                            4.464528                      0   \n",
       "10                                                NaN                      0   \n",
       "11                                                NaN                      0   \n",
       "\n",
       "    Largest Property Use Type_Adult Education  \\\n",
       "0                                           0   \n",
       "1                                           0   \n",
       "2                                           0   \n",
       "3                                           0   \n",
       "4                                           0   \n",
       "5                                           0   \n",
       "6                                           0   \n",
       "7                                           0   \n",
       "8                                           0   \n",
       "9                                           0   \n",
       "10                                          0   \n",
       "11                                          0   \n",
       "\n",
       "    Largest Property Use Type_Automobile Dealership  \\\n",
       "0                                                 0   \n",
       "1                                                 0   \n",
       "2                                                 0   \n",
       "3                                                 0   \n",
       "4                                                 0   \n",
       "5                                                 0   \n",
       "6                                                 0   \n",
       "7                                                 0   \n",
       "8                                                 0   \n",
       "9                                                 0   \n",
       "10                                                0   \n",
       "11                                                0   \n",
       "\n",
       "    Largest Property Use Type_Bank Branch  \\\n",
       "0                                       0   \n",
       "1                                       0   \n",
       "2                                       0   \n",
       "3                                       0   \n",
       "4                                       0   \n",
       "5                                       0   \n",
       "6                                       0   \n",
       "7                                       0   \n",
       "8                                       0   \n",
       "9                                       0   \n",
       "10                                      0   \n",
       "11                                      0   \n",
       "\n",
       "    Largest Property Use Type_College/University  \\\n",
       "0                                              0   \n",
       "1                                              0   \n",
       "2                                              0   \n",
       "3                                              0   \n",
       "4                                              0   \n",
       "5                                              0   \n",
       "6                                              0   \n",
       "7                                              0   \n",
       "8                                              0   \n",
       "9                                              0   \n",
       "10                                             0   \n",
       "11                                             0   \n",
       "\n",
       "    Largest Property Use Type_Convenience Store without Gas Station  \\\n",
       "0                                                   0                 \n",
       "1                                                   0                 \n",
       "2                                                   0                 \n",
       "3                                                   0                 \n",
       "4                                                   0                 \n",
       "5                                                   0                 \n",
       "6                                                   0                 \n",
       "7                                                   0                 \n",
       "8                                                   0                 \n",
       "9                                                   0                 \n",
       "10                                                  0                 \n",
       "11                                                  0                 \n",
       "\n",
       "    Largest Property Use Type_Courthouse  \\\n",
       "0                                      0   \n",
       "1                                      0   \n",
       "2                                      0   \n",
       "3                                      0   \n",
       "4                                      0   \n",
       "5                                      0   \n",
       "6                                      0   \n",
       "7                                      0   \n",
       "8                                      0   \n",
       "9                                      0   \n",
       "10                                     0   \n",
       "11                                     0   \n",
       "\n",
       "    Largest Property Use Type_Distribution Center  \\\n",
       "0                                               0   \n",
       "1                                               0   \n",
       "2                                               0   \n",
       "3                                               0   \n",
       "4                                               0   \n",
       "5                                               0   \n",
       "6                                               0   \n",
       "7                                               0   \n",
       "8                                               0   \n",
       "9                                               0   \n",
       "10                                              0   \n",
       "11                                              0   \n",
       "\n",
       "    Largest Property Use Type_Enclosed Mall  \\\n",
       "0                                         0   \n",
       "1                                         0   \n",
       "2                                         0   \n",
       "3                                         0   \n",
       "4                                         0   \n",
       "5                                         0   \n",
       "6                                         0   \n",
       "7                                         0   \n",
       "8                                         0   \n",
       "9                                         0   \n",
       "10                                        0   \n",
       "11                                        0   \n",
       "\n",
       "    Largest Property Use Type_Financial Office  \\\n",
       "0                                            0   \n",
       "1                                            0   \n",
       "2                                            0   \n",
       "3                                            0   \n",
       "4                                            0   \n",
       "5                                            0   \n",
       "6                                            0   \n",
       "7                                            0   \n",
       "8                                            0   \n",
       "9                                            0   \n",
       "10                                           0   \n",
       "11                                           0   \n",
       "\n",
       "    Largest Property Use Type_Hospital (General Medical & Surgical)  \\\n",
       "0                                                   0                 \n",
       "1                                                   0                 \n",
       "2                                                   0                 \n",
       "3                                                   0                 \n",
       "4                                                   0                 \n",
       "5                                                   0                 \n",
       "6                                                   0                 \n",
       "7                                                   0                 \n",
       "8                                                   0                 \n",
       "9                                                   0                 \n",
       "10                                                  0                 \n",
       "11                                                  0                 \n",
       "\n",
       "    Largest Property Use Type_Hotel  Largest Property Use Type_K-12 School  \\\n",
       "0                                 0                                      0   \n",
       "1                                 0                                      0   \n",
       "2                                 0                                      0   \n",
       "3                                 0                                      0   \n",
       "4                                 0                                      0   \n",
       "5                                 0                                      0   \n",
       "6                                 0                                      0   \n",
       "7                                 0                                      0   \n",
       "8                                 0                                      0   \n",
       "9                                 0                                      0   \n",
       "10                                0                                      0   \n",
       "11                                0                                      0   \n",
       "\n",
       "    Largest Property Use Type_Library  \\\n",
       "0                                   0   \n",
       "1                                   0   \n",
       "2                                   0   \n",
       "3                                   0   \n",
       "4                                   0   \n",
       "5                                   0   \n",
       "6                                   0   \n",
       "7                                   0   \n",
       "8                                   0   \n",
       "9                                   0   \n",
       "10                                  0   \n",
       "11                                  0   \n",
       "\n",
       "    Largest Property Use Type_Mailing Center/Post Office  \\\n",
       "0                                                   0      \n",
       "1                                                   0      \n",
       "2                                                   0      \n",
       "3                                                   0      \n",
       "4                                                   0      \n",
       "5                                                   0      \n",
       "6                                                   0      \n",
       "7                                                   0      \n",
       "8                                                   0      \n",
       "9                                                   0      \n",
       "10                                                  0      \n",
       "11                                                  0      \n",
       "\n",
       "    Largest Property Use Type_Manufacturing/Industrial Plant  \\\n",
       "0                                                   0          \n",
       "1                                                   0          \n",
       "2                                                   0          \n",
       "3                                                   0          \n",
       "4                                                   0          \n",
       "5                                                   0          \n",
       "6                                                   0          \n",
       "7                                                   0          \n",
       "8                                                   0          \n",
       "9                                                   0          \n",
       "10                                                  0          \n",
       "11                                                  0          \n",
       "\n",
       "    Largest Property Use Type_Medical Office  \\\n",
       "0                                          0   \n",
       "1                                          0   \n",
       "2                                          0   \n",
       "3                                          0   \n",
       "4                                          0   \n",
       "5                                          0   \n",
       "6                                          0   \n",
       "7                                          0   \n",
       "8                                          0   \n",
       "9                                          0   \n",
       "10                                         0   \n",
       "11                                         0   \n",
       "\n",
       "    Largest Property Use Type_Movie Theater  \\\n",
       "0                                         0   \n",
       "1                                         0   \n",
       "2                                         0   \n",
       "3                                         0   \n",
       "4                                         0   \n",
       "5                                         0   \n",
       "6                                         0   \n",
       "7                                         0   \n",
       "8                                         0   \n",
       "9                                         0   \n",
       "10                                        0   \n",
       "11                                        0   \n",
       "\n",
       "    Largest Property Use Type_Multifamily Housing  \\\n",
       "0                                               1   \n",
       "1                                               1   \n",
       "2                                               1   \n",
       "3                                               0   \n",
       "4                                               1   \n",
       "5                                               0   \n",
       "6                                               1   \n",
       "7                                               1   \n",
       "8                                               1   \n",
       "9                                               1   \n",
       "10                                              1   \n",
       "11                                              1   \n",
       "\n",
       "    Largest Property Use Type_Museum  \\\n",
       "0                                  0   \n",
       "1                                  0   \n",
       "2                                  0   \n",
       "3                                  0   \n",
       "4                                  0   \n",
       "5                                  0   \n",
       "6                                  0   \n",
       "7                                  0   \n",
       "8                                  0   \n",
       "9                                  0   \n",
       "10                                 0   \n",
       "11                                 0   \n",
       "\n",
       "    Largest Property Use Type_Non-Refrigerated Warehouse  \\\n",
       "0                                                   0      \n",
       "1                                                   0      \n",
       "2                                                   0      \n",
       "3                                                   0      \n",
       "4                                                   0      \n",
       "5                                                   0      \n",
       "6                                                   0      \n",
       "7                                                   0      \n",
       "8                                                   0      \n",
       "9                                                   0      \n",
       "10                                                  0      \n",
       "11                                                  0      \n",
       "\n",
       "    Largest Property Use Type_Other  \\\n",
       "0                                 0   \n",
       "1                                 0   \n",
       "2                                 0   \n",
       "3                                 0   \n",
       "4                                 0   \n",
       "5                                 0   \n",
       "6                                 0   \n",
       "7                                 0   \n",
       "8                                 0   \n",
       "9                                 0   \n",
       "10                                0   \n",
       "11                                0   \n",
       "\n",
       "    Largest Property Use Type_Other - Education  \\\n",
       "0                                             0   \n",
       "1                                             0   \n",
       "2                                             0   \n",
       "3                                             0   \n",
       "4                                             0   \n",
       "5                                             0   \n",
       "6                                             0   \n",
       "7                                             0   \n",
       "8                                             0   \n",
       "9                                             0   \n",
       "10                                            0   \n",
       "11                                            0   \n",
       "\n",
       "    Largest Property Use Type_Other - Entertainment/Public Assembly  \\\n",
       "0                                                   0                 \n",
       "1                                                   0                 \n",
       "2                                                   0                 \n",
       "3                                                   0                 \n",
       "4                                                   0                 \n",
       "5                                                   0                 \n",
       "6                                                   0                 \n",
       "7                                                   0                 \n",
       "8                                                   0                 \n",
       "9                                                   0                 \n",
       "10                                                  0                 \n",
       "11                                                  0                 \n",
       "\n",
       "    Largest Property Use Type_Other - Lodging/Residential  \\\n",
       "0                                                   0       \n",
       "1                                                   0       \n",
       "2                                                   0       \n",
       "3                                                   0       \n",
       "4                                                   0       \n",
       "5                                                   0       \n",
       "6                                                   0       \n",
       "7                                                   0       \n",
       "8                                                   0       \n",
       "9                                                   0       \n",
       "10                                                  0       \n",
       "11                                                  0       \n",
       "\n",
       "    Largest Property Use Type_Other - Mall  \\\n",
       "0                                        0   \n",
       "1                                        0   \n",
       "2                                        0   \n",
       "3                                        0   \n",
       "4                                        0   \n",
       "5                                        0   \n",
       "6                                        0   \n",
       "7                                        0   \n",
       "8                                        0   \n",
       "9                                        0   \n",
       "10                                       0   \n",
       "11                                       0   \n",
       "\n",
       "    Largest Property Use Type_Other - Public Services  \\\n",
       "0                                                   0   \n",
       "1                                                   0   \n",
       "2                                                   0   \n",
       "3                                                   0   \n",
       "4                                                   0   \n",
       "5                                                   0   \n",
       "6                                                   0   \n",
       "7                                                   0   \n",
       "8                                                   0   \n",
       "9                                                   0   \n",
       "10                                                  0   \n",
       "11                                                  0   \n",
       "\n",
       "    Largest Property Use Type_Other - Recreation  \\\n",
       "0                                              0   \n",
       "1                                              0   \n",
       "2                                              0   \n",
       "3                                              0   \n",
       "4                                              0   \n",
       "5                                              0   \n",
       "6                                              0   \n",
       "7                                              0   \n",
       "8                                              0   \n",
       "9                                              0   \n",
       "10                                             0   \n",
       "11                                             0   \n",
       "\n",
       "    Largest Property Use Type_Other - Services  \\\n",
       "0                                            0   \n",
       "1                                            0   \n",
       "2                                            0   \n",
       "3                                            0   \n",
       "4                                            0   \n",
       "5                                            0   \n",
       "6                                            0   \n",
       "7                                            0   \n",
       "8                                            0   \n",
       "9                                            0   \n",
       "10                                           0   \n",
       "11                                           0   \n",
       "\n",
       "    Largest Property Use Type_Other - Specialty Hospital  \\\n",
       "0                                                   0      \n",
       "1                                                   0      \n",
       "2                                                   0      \n",
       "3                                                   0      \n",
       "4                                                   0      \n",
       "5                                                   0      \n",
       "6                                                   0      \n",
       "7                                                   0      \n",
       "8                                                   0      \n",
       "9                                                   0      \n",
       "10                                                  0      \n",
       "11                                                  0      \n",
       "\n",
       "    Largest Property Use Type_Outpatient Rehabilitation/Physical Therapy  \\\n",
       "0                                                   0                      \n",
       "1                                                   0                      \n",
       "2                                                   0                      \n",
       "3                                                   0                      \n",
       "4                                                   0                      \n",
       "5                                                   0                      \n",
       "6                                                   0                      \n",
       "7                                                   0                      \n",
       "8                                                   0                      \n",
       "9                                                   0                      \n",
       "10                                                  0                      \n",
       "11                                                  0                      \n",
       "\n",
       "    Largest Property Use Type_Parking  \\\n",
       "0                                   0   \n",
       "1                                   0   \n",
       "2                                   0   \n",
       "3                                   0   \n",
       "4                                   0   \n",
       "5                                   0   \n",
       "6                                   0   \n",
       "7                                   0   \n",
       "8                                   0   \n",
       "9                                   0   \n",
       "10                                  0   \n",
       "11                                  0   \n",
       "\n",
       "    Largest Property Use Type_Performing Arts  \\\n",
       "0                                           0   \n",
       "1                                           0   \n",
       "2                                           0   \n",
       "3                                           0   \n",
       "4                                           0   \n",
       "5                                           0   \n",
       "6                                           0   \n",
       "7                                           0   \n",
       "8                                           0   \n",
       "9                                           0   \n",
       "10                                          0   \n",
       "11                                          0   \n",
       "\n",
       "    Largest Property Use Type_Pre-school/Daycare  \\\n",
       "0                                              0   \n",
       "1                                              0   \n",
       "2                                              0   \n",
       "3                                              0   \n",
       "4                                              0   \n",
       "5                                              0   \n",
       "6                                              0   \n",
       "7                                              0   \n",
       "8                                              0   \n",
       "9                                              0   \n",
       "10                                             0   \n",
       "11                                             0   \n",
       "\n",
       "    Largest Property Use Type_Refrigerated Warehouse  \\\n",
       "0                                                  0   \n",
       "1                                                  0   \n",
       "2                                                  0   \n",
       "3                                                  0   \n",
       "4                                                  0   \n",
       "5                                                  0   \n",
       "6                                                  0   \n",
       "7                                                  0   \n",
       "8                                                  0   \n",
       "9                                                  0   \n",
       "10                                                 0   \n",
       "11                                                 0   \n",
       "\n",
       "    Largest Property Use Type_Repair Services (Vehicle, Shoe, Locksmith, etc.)  \\\n",
       "0                                                   0                            \n",
       "1                                                   0                            \n",
       "2                                                   0                            \n",
       "3                                                   0                            \n",
       "4                                                   0                            \n",
       "5                                                   0                            \n",
       "6                                                   0                            \n",
       "7                                                   0                            \n",
       "8                                                   0                            \n",
       "9                                                   0                            \n",
       "10                                                  0                            \n",
       "11                                                  0                            \n",
       "\n",
       "    Largest Property Use Type_Residence Hall/Dormitory  \\\n",
       "0                                                   0    \n",
       "1                                                   0    \n",
       "2                                                   0    \n",
       "3                                                   0    \n",
       "4                                                   0    \n",
       "5                                                   0    \n",
       "6                                                   0    \n",
       "7                                                   0    \n",
       "8                                                   0    \n",
       "9                                                   0    \n",
       "10                                                  0    \n",
       "11                                                  0    \n",
       "\n",
       "    Largest Property Use Type_Residential Care Facility  \\\n",
       "0                                                   0     \n",
       "1                                                   0     \n",
       "2                                                   0     \n",
       "3                                                   0     \n",
       "4                                                   0     \n",
       "5                                                   0     \n",
       "6                                                   0     \n",
       "7                                                   0     \n",
       "8                                                   0     \n",
       "9                                                   0     \n",
       "10                                                  0     \n",
       "11                                                  0     \n",
       "\n",
       "    Largest Property Use Type_Restaurant  \\\n",
       "0                                      0   \n",
       "1                                      0   \n",
       "2                                      0   \n",
       "3                                      0   \n",
       "4                                      0   \n",
       "5                                      0   \n",
       "6                                      0   \n",
       "7                                      0   \n",
       "8                                      0   \n",
       "9                                      0   \n",
       "10                                     0   \n",
       "11                                     0   \n",
       "\n",
       "    Largest Property Use Type_Retail Store  \\\n",
       "0                                        0   \n",
       "1                                        0   \n",
       "2                                        0   \n",
       "3                                        0   \n",
       "4                                        0   \n",
       "5                                        0   \n",
       "6                                        0   \n",
       "7                                        0   \n",
       "8                                        0   \n",
       "9                                        0   \n",
       "10                                       0   \n",
       "11                                       0   \n",
       "\n",
       "    Largest Property Use Type_Self-Storage Facility  \\\n",
       "0                                                 0   \n",
       "1                                                 0   \n",
       "2                                                 0   \n",
       "3                                                 0   \n",
       "4                                                 0   \n",
       "5                                                 0   \n",
       "6                                                 0   \n",
       "7                                                 0   \n",
       "8                                                 0   \n",
       "9                                                 0   \n",
       "10                                                0   \n",
       "11                                                0   \n",
       "\n",
       "    Largest Property Use Type_Senior Care Community  \\\n",
       "0                                                 0   \n",
       "1                                                 0   \n",
       "2                                                 0   \n",
       "3                                                 1   \n",
       "4                                                 0   \n",
       "5                                                 0   \n",
       "6                                                 0   \n",
       "7                                                 0   \n",
       "8                                                 0   \n",
       "9                                                 0   \n",
       "10                                                0   \n",
       "11                                                0   \n",
       "\n",
       "    Largest Property Use Type_Social/Meeting Hall  \\\n",
       "0                                               0   \n",
       "1                                               0   \n",
       "2                                               0   \n",
       "3                                               0   \n",
       "4                                               0   \n",
       "5                                               0   \n",
       "6                                               0   \n",
       "7                                               0   \n",
       "8                                               0   \n",
       "9                                               0   \n",
       "10                                              0   \n",
       "11                                              0   \n",
       "\n",
       "    Largest Property Use Type_Strip Mall  \\\n",
       "0                                      0   \n",
       "1                                      0   \n",
       "2                                      0   \n",
       "3                                      0   \n",
       "4                                      0   \n",
       "5                                      0   \n",
       "6                                      0   \n",
       "7                                      0   \n",
       "8                                      0   \n",
       "9                                      0   \n",
       "10                                     0   \n",
       "11                                     0   \n",
       "\n",
       "    Largest Property Use Type_Supermarket/Grocery Store  \\\n",
       "0                                                   0     \n",
       "1                                                   0     \n",
       "2                                                   0     \n",
       "3                                                   0     \n",
       "4                                                   0     \n",
       "5                                                   0     \n",
       "6                                                   0     \n",
       "7                                                   0     \n",
       "8                                                   0     \n",
       "9                                                   0     \n",
       "10                                                  0     \n",
       "11                                                  0     \n",
       "\n",
       "    Largest Property Use Type_Urgent Care/Clinic/Other Outpatient  \\\n",
       "0                                                   0               \n",
       "1                                                   0               \n",
       "2                                                   0               \n",
       "3                                                   0               \n",
       "4                                                   0               \n",
       "5                                                   0               \n",
       "6                                                   0               \n",
       "7                                                   0               \n",
       "8                                                   0               \n",
       "9                                                   0               \n",
       "10                                                  0               \n",
       "11                                                  0               \n",
       "\n",
       "    Largest Property Use Type_Wholesale Club/Supercenter  \\\n",
       "0                                                   0      \n",
       "1                                                   0      \n",
       "2                                                   0      \n",
       "3                                                   0      \n",
       "4                                                   0      \n",
       "5                                                   0      \n",
       "6                                                   0      \n",
       "7                                                   0      \n",
       "8                                                   0      \n",
       "9                                                   0      \n",
       "10                                                  0      \n",
       "11                                                  0      \n",
       "\n",
       "    Largest Property Use Type_Worship Facility  \n",
       "0                                            0  \n",
       "1                                            0  \n",
       "2                                            0  \n",
       "3                                            0  \n",
       "4                                            0  \n",
       "5                                            0  \n",
       "6                                            0  \n",
       "7                                            0  \n",
       "8                                            0  \n",
       "9                                            0  \n",
       "10                                           0  \n",
       "11                                           0  "
      ]
     },
     "execution_count": 10,
     "metadata": {},
     "output_type": "execute_result"
    }
   ],
   "source": [
    "train_features.head(12)"
   ]
  },
  {
   "cell_type": "markdown",
   "metadata": {
    "colab_type": "text",
    "id": "pS209z2YA43B"
   },
   "source": [
    "The `score` column contains the Energy Star Score, the target for our machine learning problem. The Energy Star Score is supposed to be a comparitive measurement of the energy efficiency of a building, although we saw there may be issues with how this is calculated in part one! \n",
    "\n",
    "Here's the distribution of the Energy Star Score."
   ]
  },
  {
   "cell_type": "code",
   "execution_count": 11,
   "metadata": {
    "colab": {
     "base_uri": "https://localhost:8080/",
     "height": 564
    },
    "colab_type": "code",
    "executionInfo": {
     "elapsed": 2620,
     "status": "ok",
     "timestamp": 1583772772858,
     "user": {
      "displayName": "Sayan Dey",
      "photoUrl": "https://lh3.googleusercontent.com/a-/AOh14GhGdAaAMDWFJQH8pl6eFDU9flchgFMbU_GzEBhtcC8=s64",
      "userId": "03603580465490055794"
     },
     "user_tz": -330
    },
    "id": "O_SvFVrrA43C",
    "outputId": "f438741d-1d1e-4e8a-c5d6-225e334f3303"
   },
   "outputs": [
    {
     "data": {
      "text/plain": [
       "Text(0.5, 1.0, 'ENERGY Star Score Distribution')"
      ]
     },
     "execution_count": 11,
     "metadata": {},
     "output_type": "execute_result"
    },
    {
     "data": {
      "image/png": "[encoded data removed]",
      "text/plain": [
       "<Figure size 576x576 with 1 Axes>"
      ]
     },
     "metadata": {},
     "output_type": "display_data"
    }
   ],
   "source": [
    "plt.figure(figsize = (8, 8))\n",
    "\n",
    "# Histogram of the Energy Star Score\n",
    "plt.hist(train_labels['score'].dropna(), bins = 100)\n",
    "plt.xlabel('Score')\n",
    "plt.ylabel('Number of Buildings')\n",
    "plt.title('ENERGY Star Score Distribution')"
   ]
  },
  {
   "cell_type": "markdown",
   "metadata": {
    "colab_type": "text",
    "id": "3pQ4O41KA43F"
   },
   "source": [
    "# Evaluating and Comparing Machine Learning Models\n",
    "\n",
    "In this section we will build, train, and evalute several machine learning methods for our supervised regression task. The objective is to determine which model holds the most promise for further development (such as hyperparameter tuning). \n",
    "\n",
    "We are comparing models using the __mean absolute error__. A baseline model that guessed the median value of the score was off by an __average of 25 points__. "
   ]
  },
  {
   "cell_type": "markdown",
   "metadata": {
    "colab_type": "text",
    "id": "YAc4kMw5A43G"
   },
   "source": [
    "## Imputing Missing Values"
   ]
  },
  {
   "cell_type": "markdown",
   "metadata": {
    "colab_type": "text",
    "id": "7wt51NeHA43H"
   },
   "source": [
    "Standard machine learning models cannot deal with missing values, and which means we have to find a way to fill these in or disard any features with missing values. Since we already removed features with more than 50% missing values in the first part, here we will focus on filling in these missing values, a process known as imputation. There are a number of methods for imputation but here we will use the relatively simple method of replacing missing values with the median of the column.\n",
    "\n",
    "In the code below, we create a Scikit-learn `Imputer` object to fill in missing values with the median of the column. Notice that we train the imputer (using the `Imputer.fit` method) on the training data but not the testing data. We then transform (using `Imputer.transform`) both the training data and testing data. This means that the missing values in the testing set are filled in with the median value of the corresponding columns in the training set. We have to do it this wayrather than because at deployment time, we will have to impute the missing values in new observations based on the previous training data. This is one way to avoid the problem known as data leakage where information from the testing set \"leaks\" into the training process."
   ]
  },
  {
   "cell_type": "code",
   "execution_count": 12,
   "metadata": {},
   "outputs": [
    {
     "name": "stdout",
     "output_type": "stream",
     "text": [
      "Collecting impyute\n",
      "  Downloading impyute-0.0.8-py2.py3-none-any.whl (31 kB)\n",
      "Requirement already satisfied: scikit-learn in c:\\users\\staya\\anaconda3\\lib\\site-packages (from impyute) (0.23.1)\n",
      "Requirement already satisfied: scipy in c:\\users\\staya\\appdata\\roaming\\python\\python38\\site-packages (from impyute) (1.4.1)\n",
      "Requirement already satisfied: numpy in c:\\users\\staya\\anaconda3\\lib\\site-packages (from impyute) (1.18.5)\n",
      "Requirement already satisfied: joblib>=0.11 in c:\\users\\staya\\anaconda3\\lib\\site-packages (from scikit-learn->impyute) (0.16.0)\n",
      "Requirement already satisfied: threadpoolctl>=2.0.0 in c:\\users\\staya\\anaconda3\\lib\\site-packages (from scikit-learn->impyute) (2.1.0)\n",
      "Installing collected packages: impyute\n",
      "Successfully installed impyute-0.0.8\n"
     ]
    }
   ],
   "source": [
    "!pip install impyute"
   ]
  },
  {
   "cell_type": "code",
   "execution_count": 13,
   "metadata": {
    "colab": {},
    "colab_type": "code",
    "id": "Y2px36HRwBL-"
   },
   "outputs": [],
   "source": [
    "from impyute.imputation.cs import mice\n",
    "from sklearn.ensemble import RandomForestRegressor,GradientBoostingRegressor"
   ]
  },
  {
   "cell_type": "code",
   "execution_count": 14,
   "metadata": {
    "colab": {
     "base_uri": "https://localhost:8080/",
     "height": 50
    },
    "colab_type": "code",
    "executionInfo": {
     "elapsed": 81806,
     "status": "ok",
     "timestamp": 1583772853385,
     "user": {
      "displayName": "Sayan Dey",
      "photoUrl": "https://lh3.googleusercontent.com/a-/AOh14GhGdAaAMDWFJQH8pl6eFDU9flchgFMbU_GzEBhtcC8=s64",
      "userId": "03603580465490055794"
     },
     "user_tz": -330
    },
    "id": "fDqpuuyS1fll",
    "outputId": "bff28f0a-8ac9-4556-cf82-85650375e85b"
   },
   "outputs": [
    {
     "name": "stderr",
     "output_type": "stream",
     "text": [
      "C:\\Users\\staya\\anaconda3\\lib\\site-packages\\sklearn\\impute\\_iterative.py:669: ConvergenceWarning: [IterativeImputer] Early stopping criterion not reached.\n",
      "  warnings.warn(\"[IterativeImputer] Early stopping criterion not\"\n"
     ]
    }
   ],
   "source": [
    "imputer = IterativeImputer(GradientBoostingRegressor())\n",
    "# Train on the training features\n",
    "imputer.fit(train_features)\n",
    "\n",
    "# Transform both training data and testing data\n",
    "X = imputer.transform(train_features)\n",
    "X_test = imputer.transform(test_features)"
   ]
  },
  {
   "cell_type": "code",
   "execution_count": 15,
   "metadata": {
    "colab": {
     "base_uri": "https://localhost:8080/",
     "height": 50
    },
    "colab_type": "code",
    "executionInfo": {
     "elapsed": 1344,
     "status": "ok",
     "timestamp": 1583772899581,
     "user": {
      "displayName": "Sayan Dey",
      "photoUrl": "https://lh3.googleusercontent.com/a-/AOh14GhGdAaAMDWFJQH8pl6eFDU9flchgFMbU_GzEBhtcC8=s64",
      "userId": "03603580465490055794"
     },
     "user_tz": -330
    },
    "id": "PKJlzTqCA43K",
    "outputId": "b470a9ce-a3db-4eaf-a85a-3ea5d3112bab"
   },
   "outputs": [
    {
     "name": "stdout",
     "output_type": "stream",
     "text": [
      "Missing values in training features:  0\n",
      "Missing values in testing features:   0\n"
     ]
    }
   ],
   "source": [
    "print('Missing values in training features: ', np.sum(np.isnan(X)))\n",
    "print('Missing values in testing features:  ', np.sum(np.isnan(X_test)))"
   ]
  },
  {
   "cell_type": "code",
   "execution_count": 16,
   "metadata": {
    "colab": {
     "base_uri": "https://localhost:8080/",
     "height": 50
    },
    "colab_type": "code",
    "executionInfo": {
     "elapsed": 972,
     "status": "ok",
     "timestamp": 1583772899584,
     "user": {
      "displayName": "Sayan Dey",
      "photoUrl": "https://lh3.googleusercontent.com/a-/AOh14GhGdAaAMDWFJQH8pl6eFDU9flchgFMbU_GzEBhtcC8=s64",
      "userId": "03603580465490055794"
     },
     "user_tz": -330
    },
    "id": "Pvt2dSQ0A43M",
    "outputId": "85e277bf-6d3c-415d-9b54-27c0896dcbd2"
   },
   "outputs": [
    {
     "name": "stdout",
     "output_type": "stream",
     "text": [
      "(array([], dtype=int64), array([], dtype=int64))\n",
      "(array([], dtype=int64), array([], dtype=int64))\n"
     ]
    }
   ],
   "source": [
    "# Make sure all values are finite\n",
    "print(np.where(~np.isfinite(X)))\n",
    "print(np.where(~np.isfinite(X_test)))"
   ]
  },
  {
   "cell_type": "markdown",
   "metadata": {
    "colab_type": "text",
    "id": "lkmcbd1dA43O"
   },
   "source": [
    "After imputation, all of the features are real-valued."
   ]
  },
  {
   "cell_type": "markdown",
   "metadata": {
    "colab_type": "text",
    "id": "MyGff5b1A43O"
   },
   "source": [
    "### Scaling Features\n",
    "\n",
    "The final step to take before we can build our models is to scale the features. This is necessary because features are in different units, and we want to normalize the features so the units do not affect the algorithm. Linear Regression and Random Forest do not require feature scaling, but other methods, such as support vector machines and k nearest neighbors, do require it because they take into account the Euclidean distance between observations. For this reason, it is a best practice to scale features when we are comparing multiple algorithms. \n",
    "\n",
    "There are two ways to scale features\n",
    "\n",
    "1. For each value, subtract the mean of the feature and divide by the standard deviation of the feature. This is known as standardization and results in each feature having a mean of 0 and a standard deviation of 1.\n",
    "2. For each value, subtract the minimum value of the feature and divide by the maximum minus the minimum for the feature (the range). This assures that all the values for a feature are between 0 and 1 and is called scaling to a range or normalization.\n",
    "\n",
    "As with imputation, when we train the scaling object, we want to use only the training set. When we transform features, we will transform both the training set and the testing set."
   ]
  },
  {
   "cell_type": "code",
   "execution_count": 17,
   "metadata": {
    "colab": {},
    "colab_type": "code",
    "id": "Vutd1W6aA43P"
   },
   "outputs": [],
   "source": [
    "# Create the scaler object with a range of 0-1\n",
    "#scaler = MinMaxScaler(feature_range=(0, 1))\n",
    "from sklearn.preprocessing import StandardScaler\n",
    "scaler = MinMaxScaler()\n",
    "# Fit on the training data\n",
    "scaler.fit(X)\n",
    "\n",
    "# Transform both the training and testing data\n",
    "X = scaler.transform(X)\n",
    "X_test = scaler.transform(X_test)"
   ]
  },
  {
   "cell_type": "code",
   "execution_count": 18,
   "metadata": {
    "colab": {},
    "colab_type": "code",
    "id": "gEmGCMs3A43R"
   },
   "outputs": [],
   "source": [
    "# Convert y to one-dimensional array (vector)\n",
    "y = np.array(train_labels).reshape((-1, ))\n",
    "y_test = np.array(test_labels).reshape((-1, ))"
   ]
  },
  {
   "cell_type": "markdown",
   "metadata": {
    "colab_type": "text",
    "id": "UGpBDF1-A43S"
   },
   "source": [
    "## Models to Evaluate\n",
    "\n",
    "We will compare four different machine learning models using the great Scikit-Learn library:\n",
    "\n",
    "1. Linear Regression\n",
    "3. Random Forest Regression\n",
    "4. Gradient Boosting Regression\n",
    "5. K-Nearest Neighbors Regression\n",
    "\n",
    "To compare the models, we are going to be mostly using the Scikit-Learn defaults for the model hyperparameters. Generally these will perform decently, but should be optimized before actually using a model. At first, we just want to determine the baseline performance of each model, and then we can select the best performing model for further optimization using hyperparameter tuning. Remember that the default hyperparameters will get a model up and running, but nearly always should be adjusted using some sort of search to find the best settings for your problem! \n",
    "\n",
    "One of the best parts about scikit-learn is that all models are implemented in an identical manner: once you know how to build one, you can implement an extremely diverse array of models. Here we will implement the entire training and testing procedures for a number of models in just a few lines of code."
   ]
  },
  {
   "cell_type": "code",
   "execution_count": 19,
   "metadata": {
    "colab": {},
    "colab_type": "code",
    "id": "lhmAamYbA43T"
   },
   "outputs": [],
   "source": [
    "# Function to calculate mean absolute error\n",
    "def mae(y_true, y_pred):\n",
    "    return np.mean(abs(y_true - y_pred))\n",
    "\n",
    "# Takes in a model, trains the model, and evaluates the model on the test set\n",
    "def fit_and_evaluate(model):\n",
    "    \n",
    "    # Train the model\n",
    "    model.fit(X, y)\n",
    "    \n",
    "    # Make predictions and evalute\n",
    "    model_pred = model.predict(X_test)\n",
    "    model_mae = mae(y_test, model_pred)\n",
    "    \n",
    "    # Return the performance metric\n",
    "    return model_mae"
   ]
  },
  {
   "cell_type": "code",
   "execution_count": 21,
   "metadata": {
    "colab": {
     "base_uri": "https://localhost:8080/",
     "height": 34
    },
    "colab_type": "code",
    "executionInfo": {
     "elapsed": 1212,
     "status": "ok",
     "timestamp": 1583769274085,
     "user": {
      "displayName": "Sayan Dey",
      "photoUrl": "https://lh3.googleusercontent.com/a-/AOh14GhGdAaAMDWFJQH8pl6eFDU9flchgFMbU_GzEBhtcC8=s64",
      "userId": "03603580465490055794"
     },
     "user_tz": -330
    },
    "id": "mq-C7r7FA43V",
    "outputId": "ba4df666-f6b4-4021-92e6-8e3f89f0bfb3"
   },
   "outputs": [
    {
     "name": "stdout",
     "output_type": "stream",
     "text": [
      "Linear Regression Performance on the test set: MAE = 13.3121\n"
     ]
    }
   ],
   "source": [
    "lr = LinearRegression()\n",
    "lr_mae = fit_and_evaluate(lr)\n",
    "print('Linear Regression Performance on the test set: MAE = %0.4f' % lr_mae)"
   ]
  },
  {
   "cell_type": "code",
   "execution_count": 22,
   "metadata": {
    "colab": {
     "base_uri": "https://localhost:8080/",
     "height": 138
    },
    "colab_type": "code",
    "executionInfo": {
     "elapsed": 1873,
     "status": "ok",
     "timestamp": 1583769277559,
     "user": {
      "displayName": "Sayan Dey",
      "photoUrl": "https://lh3.googleusercontent.com/a-/AOh14GhGdAaAMDWFJQH8pl6eFDU9flchgFMbU_GzEBhtcC8=s64",
      "userId": "03603580465490055794"
     },
     "user_tz": -330
    },
    "id": "b7kxTiqoDUTE",
    "outputId": "8f232620-f463-4d5e-ce74-7e1eb6a57592"
   },
   "outputs": [
    {
     "name": "stdout",
     "output_type": "stream",
     "text": [
      "Linear Regression\n",
      "[0.67405632 0.66383955 0.69377333 0.69742603 0.6943561  0.66388235\n",
      " 0.576173   0.69510456 0.61529388 0.68122503]\n",
      "Bias Error (1-Accuracy/R2)\n",
      "0.33448698653860365\n",
      "Variance Error\n",
      "0.0014353583629268898\n"
     ]
    }
   ],
   "source": [
    "from sklearn.model_selection import cross_val_score\n",
    "scoreslr = cross_val_score(lr, X, y, cv=10)\n",
    "print(\"Linear Regression\")\n",
    "print(scoreslr)\n",
    "#Bias Variance Error Calculation\n",
    "print(\"Bias Error (1-Accuracy/R2)\")\n",
    "print(1-np.mean(scoreslr))\n",
    "print(\"Variance Error\")\n",
    "print(np.var(scoreslr))"
   ]
  },
  {
   "cell_type": "code",
   "execution_count": 23,
   "metadata": {
    "colab": {
     "base_uri": "https://localhost:8080/",
     "height": 34
    },
    "colab_type": "code",
    "executionInfo": {
     "elapsed": 1351,
     "status": "ok",
     "timestamp": 1583769312578,
     "user": {
      "displayName": "Sayan Dey",
      "photoUrl": "https://lh3.googleusercontent.com/a-/AOh14GhGdAaAMDWFJQH8pl6eFDU9flchgFMbU_GzEBhtcC8=s64",
      "userId": "03603580465490055794"
     },
     "user_tz": -330
    },
    "id": "P19QiTZVA43Z",
    "outputId": "a98b892d-ab54-47c6-9748-4fe19f0338d9"
   },
   "outputs": [
    {
     "name": "stdout",
     "output_type": "stream",
     "text": [
      "Random Forest Regression Performance on the test set: MAE = 11.6011\n"
     ]
    }
   ],
   "source": [
    "random_forest = RandomForestRegressor(n_estimators=2,random_state=42)\n",
    "random_forest_mae = fit_and_evaluate(random_forest)\n",
    "\n",
    "print('Random Forest Regression Performance on the test set: MAE = %0.4f' % random_forest_mae)"
   ]
  },
  {
   "cell_type": "code",
   "execution_count": 24,
   "metadata": {
    "colab": {
     "base_uri": "https://localhost:8080/",
     "height": 34
    },
    "colab_type": "code",
    "executionInfo": {
     "elapsed": 2219,
     "status": "ok",
     "timestamp": 1583769315761,
     "user": {
      "displayName": "Sayan Dey",
      "photoUrl": "https://lh3.googleusercontent.com/a-/AOh14GhGdAaAMDWFJQH8pl6eFDU9flchgFMbU_GzEBhtcC8=s64",
      "userId": "03603580465490055794"
     },
     "user_tz": -330
    },
    "id": "Ittl2M7ZA43c",
    "outputId": "89a2879a-dc35-4fc6-e332-9ac7e8eeb713"
   },
   "outputs": [
    {
     "name": "stdout",
     "output_type": "stream",
     "text": [
      "Gradient Boosted Regression Performance on the test set: MAE = 10.0399\n"
     ]
    }
   ],
   "source": [
    "gradient_boosted = GradientBoostingRegressor(random_state=42)\n",
    "gradient_boosted_mae = fit_and_evaluate(gradient_boosted)\n",
    "\n",
    "print('Gradient Boosted Regression Performance on the test set: MAE = %0.4f' % gradient_boosted_mae)"
   ]
  },
  {
   "cell_type": "code",
   "execution_count": 25,
   "metadata": {
    "colab": {
     "base_uri": "https://localhost:8080/",
     "height": 34
    },
    "colab_type": "code",
    "executionInfo": {
     "elapsed": 3546,
     "status": "ok",
     "timestamp": 1583769330090,
     "user": {
      "displayName": "Sayan Dey",
      "photoUrl": "https://lh3.googleusercontent.com/a-/AOh14GhGdAaAMDWFJQH8pl6eFDU9flchgFMbU_GzEBhtcC8=s64",
      "userId": "03603580465490055794"
     },
     "user_tz": -330
    },
    "id": "TrHS4-qDA43e",
    "outputId": "54e09630-d6f1-4e53-807f-529e223e79c4"
   },
   "outputs": [
    {
     "name": "stdout",
     "output_type": "stream",
     "text": [
      "K-Nearest Neighbors Regression Performance on the test set: MAE = 13.1353\n"
     ]
    }
   ],
   "source": [
    "knn = KNeighborsRegressor(n_neighbors=10)\n",
    "knn_mae = fit_and_evaluate(knn)\n",
    "\n",
    "print('K-Nearest Neighbors Regression Performance on the test set: MAE = %0.4f' % knn_mae)"
   ]
  },
  {
   "cell_type": "code",
   "execution_count": 26,
   "metadata": {
    "colab": {
     "base_uri": "https://localhost:8080/",
     "height": 441
    },
    "colab_type": "code",
    "executionInfo": {
     "elapsed": 2002,
     "status": "ok",
     "timestamp": 1583769334937,
     "user": {
      "displayName": "Sayan Dey",
      "photoUrl": "https://lh3.googleusercontent.com/a-/AOh14GhGdAaAMDWFJQH8pl6eFDU9flchgFMbU_GzEBhtcC8=s64",
      "userId": "03603580465490055794"
     },
     "user_tz": -330
    },
    "id": "q2suMBfbA43g",
    "outputId": "849f8735-cdda-4e99-8261-13fcf5a0075f"
   },
   "outputs": [
    {
     "data": {
      "text/plain": [
       "Text(0.5, 1.0, 'Model Comparison on Test MAE')"
      ]
     },
     "execution_count": 26,
     "metadata": {},
     "output_type": "execute_result"
    },
    {
     "data": {
      "text/plain": [
       "<Figure size 576x432 with 0 Axes>"
      ]
     },
     "metadata": {},
     "output_type": "display_data"
    },
    {
     "data": {
      "image/png": "[encoded data removed]",
      "text/plain": [
       "<Figure size 432x288 with 1 Axes>"
      ]
     },
     "metadata": {},
     "output_type": "display_data"
    }
   ],
   "source": [
    "plt.figure(figsize = (8, 6))\n",
    "\n",
    "# Dataframe to hold the results\n",
    "model_comparison = pd.DataFrame({'model': ['Linear Regression', 'Random Forest', 'Gradient Boosted', 'K-Nearest Neighbors'],\n",
    "                                 'mae': [lr_mae, random_forest_mae, gradient_boosted_mae, knn_mae]})\n",
    "\n",
    "# Horizontal bar chart of test mae\n",
    "model_comparison.sort_values('mae', ascending = False).plot(x = 'model', y = 'mae', kind = 'barh',\n",
    "                                                           color = 'red', edgecolor = 'black')\n",
    "\n",
    "# Plot formatting\n",
    "plt.ylabel('')\n",
    "plt.yticks(size = 14)\n",
    "plt.xlabel('Mean Absolute Error')\n",
    "plt.xticks(size = 14)\n",
    "plt.title('Model Comparison on Test MAE', size = 20)"
   ]
  },
  {
   "cell_type": "markdown",
   "metadata": {
    "colab_type": "text",
    "id": "gKHydBA8A43i"
   },
   "source": [
    "Depending on the run (the exact results change slighty each time), the gradient boosting regressor performs the best followed by the random forest. I have to admit that this is not the most fair comparison because we are using mostly the default hyperparameters. The random forest and gradient boosting methods are great for starting out because the performance is less dependent on the model settings. Nonetheless, from these results, we can conclude that machine learning is applicable because all the models significantly outperform the baseline!\n",
    "\n",
    "From here, I am going to concentrate on optimizing the best model using hyperparamter tuning. Given the results here, I will concentrate on using the `GradientBoostingRegressor`. This is the Scikit-Learn implementation of Gradient Boosted Trees which has won many Kaggle competitions in the past few years."
   ]
  },
  {
   "cell_type": "markdown",
   "metadata": {
    "colab_type": "text",
    "id": "QiC3ghlBA43j"
   },
   "source": [
    "# Model Optimization \n",
    "\n",
    "In machine learning, optimizing a model means finding the best set of hyperparameters for a particular problem. \n",
    "\n",
    "## Hyperparameters\n",
    "\n",
    "First off, we need to understand what model hyperparameters are in contrast to model parameters :\n",
    "\n",
    "* Model __hyperparameters__ are best thought of as settings for a machine learning algorithm that are tuned by the data scientist before training. Examples would be the number of trees in the random forest, or the number of neighbors used in K Nearest Neighbors Regression. \n",
    "* Model __parameters__ are what the model learns during training, such as the weights in the linear regression.\n",
    "\n",
    "We as data scientists control a model by choosing the hyperparameters, and these choices can have a significant effect on the final performance of the model (although usually not as great of an effect as getting more data or engineering features). \n",
    "\n",
    "Tuning the model hyperparameters controls the balance of under vs over fitting in a model. We can try to correct for under-fitting by making a more complex model, such as using more trees in a random forest or more layers in a deep neural network. A model that underfits has high bias, and occurs when our model does not have enough capacity (degrees of freedom) to learn the relationship between the features and the target. We can try to correct for overfitting by limiting the complexity of the model and applying regularization. This might mean decreasing the degree of a polynomial regression, or adding dropout layers to a deep neural network. A model that overfits has high variance and in effect has memorized the training set. Both underfitting and overfitting lead to poor generalization performance on the test set. \n",
    "\n",
    "The problem with choosing the hyperparameters is that no set will work best across all problems. Therefore, for every new dataset, we have to find the best settings. This can be a time-consuming process, but luckily there are several options for performing this procedure in Scikit-Learn. Even better, new libraries, such as [TPOT](https://epistasislab.github.io/tpot/) by epistasis labs, is aiming to do this process automatically for you! For now, we will stick to doing this manually (sort of) in Scikit-Learn, but stay tuned for an article on automatic model selection! "
   ]
  },
  {
   "cell_type": "markdown",
   "metadata": {
    "colab_type": "text",
    "id": "Jvq_RPfQA43j"
   },
   "source": [
    "## Hyperparameter Tuning with Random Search and Cross Validation\n",
    "\n",
    "We can choose the best hyperparameters for a model through random search and cross validation. \n",
    "\n",
    "* Random search refers to the method in which we choose hyperparameters to evaluate: we define a range of options, and then randomly select combinations to try. This is in contrast to grid search which evaluates every single combination we specify. Generally, random search is better when we have limited knowledge of the best model hyperparameters and we can use random search to narrow down the options and then use grid search with a more limited range of options. \n",
    "* Cross validation is the method used to assess the performance of the hyperparameters. Rather than splitting the training set up into separate training and validation sets which reduces the amount of training data we can use, we use K-Fold Cross Validation. This means dividing the training data into K folds, and then going through an iterative process where we first train on K-1 of the folds and then evaluate performance on the kth fold. We repeat this process K times so eventually we will have tested on every example in the training data with the key that each iteration we are testing on data that we __did not train on__.  At the end of K-fold cross validation, we take the average error on each of the K iterations as the final performance measure and then train the model on all the training data at once. The performance we record is then used to compare different combinations of hyperparameters. \n",
    "\n",
    "A picture of k-fold cross validation using k = 5 is shown below:\n",
    "\n",
    "![image](images/kfold_cv.png)\n",
    "\n",
    "Here we will implement random search with cross validation to select the optimal hyperparameters for the gradient boosting regressor. We first define a grid then peform an iterative process of: randomly sample a set of hyperparameters from the grid, evaluate the hyperparameters using 4-fold cross-validation, and then select the hyperparameters with the best performance. \n",
    "\n",
    "Of course we don't actually do this iteration ourselves, we let Scikit-Learn and `RandomizedSearchCV` do the process for us! "
   ]
  },
  {
   "cell_type": "code",
   "execution_count": 27,
   "metadata": {
    "colab": {
     "base_uri": "https://localhost:8080/",
     "height": 1000
    },
    "colab_type": "code",
    "executionInfo": {
     "elapsed": 534122,
     "status": "ok",
     "timestamp": 1583770541434,
     "user": {
      "displayName": "Sayan Dey",
      "photoUrl": "https://lh3.googleusercontent.com/a-/AOh14GhGdAaAMDWFJQH8pl6eFDU9flchgFMbU_GzEBhtcC8=s64",
      "userId": "03603580465490055794"
     },
     "user_tz": -330
    },
    "id": "qVFoENAQA43q",
    "outputId": "2d26d80b-16f2-441b-bb04-01fc692bba5d"
   },
   "outputs": [
    {
     "name": "stdout",
     "output_type": "stream",
     "text": [
      "Fitting 5 folds for each of 10 candidates, totalling 50 fits\n",
      "[CV] n_estimators=3768 ...............................................\n"
     ]
    },
    {
     "name": "stderr",
     "output_type": "stream",
     "text": [
      "[Parallel(n_jobs=1)]: Using backend SequentialBackend with 1 concurrent workers.\n"
     ]
    },
    {
     "name": "stdout",
     "output_type": "stream",
     "text": [
      "[CV] ................... n_estimators=3768, score=0.801, total= 1.5min\n",
      "[CV] n_estimators=3768 ...............................................\n"
     ]
    },
    {
     "name": "stderr",
     "output_type": "stream",
     "text": [
      "[Parallel(n_jobs=1)]: Done   1 out of   1 | elapsed:  1.5min remaining:    0.0s\n"
     ]
    },
    {
     "name": "stdout",
     "output_type": "stream",
     "text": [
      "[CV] ................... n_estimators=3768, score=0.807, total= 1.7min\n",
      "[CV] n_estimators=3768 ...............................................\n"
     ]
    },
    {
     "name": "stderr",
     "output_type": "stream",
     "text": [
      "[Parallel(n_jobs=1)]: Done   2 out of   2 | elapsed:  3.3min remaining:    0.0s\n"
     ]
    },
    {
     "name": "stdout",
     "output_type": "stream",
     "text": [
      "[CV] ................... n_estimators=3768, score=0.810, total= 1.8min\n",
      "[CV] n_estimators=3768 ...............................................\n",
      "[CV] ................... n_estimators=3768, score=0.773, total= 1.6min\n",
      "[CV] n_estimators=3768 ...............................................\n",
      "[CV] ................... n_estimators=3768, score=0.800, total= 1.6min\n",
      "[CV] n_estimators=1096 ...............................................\n",
      "[CV] ................... n_estimators=1096, score=0.809, total=  26.4s\n",
      "[CV] n_estimators=1096 ...............................................\n",
      "[CV] ................... n_estimators=1096, score=0.822, total=  25.9s\n",
      "[CV] n_estimators=1096 ...............................................\n",
      "[CV] ................... n_estimators=1096, score=0.818, total=  26.8s\n",
      "[CV] n_estimators=1096 ...............................................\n",
      "[CV] ................... n_estimators=1096, score=0.784, total=  26.0s\n",
      "[CV] n_estimators=1096 ...............................................\n",
      "[CV] ................... n_estimators=1096, score=0.812, total=  26.0s\n",
      "[CV] n_estimators=432 ................................................\n",
      "[CV] .................... n_estimators=432, score=0.809, total=  10.3s\n",
      "[CV] n_estimators=432 ................................................\n",
      "[CV] .................... n_estimators=432, score=0.820, total=  10.2s\n",
      "[CV] n_estimators=432 ................................................\n",
      "[CV] .................... n_estimators=432, score=0.820, total=  10.3s\n",
      "[CV] n_estimators=432 ................................................\n",
      "[CV] .................... n_estimators=432, score=0.784, total=  10.3s\n",
      "[CV] n_estimators=432 ................................................\n",
      "[CV] .................... n_estimators=432, score=0.814, total=  10.3s\n",
      "[CV] n_estimators=373 ................................................\n",
      "[CV] .................... n_estimators=373, score=0.809, total=   9.1s\n",
      "[CV] n_estimators=373 ................................................\n",
      "[CV] .................... n_estimators=373, score=0.820, total=   9.0s\n",
      "[CV] n_estimators=373 ................................................\n",
      "[CV] .................... n_estimators=373, score=0.819, total=   9.1s\n",
      "[CV] n_estimators=373 ................................................\n",
      "[CV] .................... n_estimators=373, score=0.784, total=   8.8s\n",
      "[CV] n_estimators=373 ................................................\n",
      "[CV] .................... n_estimators=373, score=0.812, total=   8.9s\n",
      "[CV] n_estimators=846 ................................................\n",
      "[CV] .................... n_estimators=846, score=0.809, total=  20.3s\n",
      "[CV] n_estimators=846 ................................................\n",
      "[CV] .................... n_estimators=846, score=0.823, total=  20.1s\n",
      "[CV] n_estimators=846 ................................................\n",
      "[CV] .................... n_estimators=846, score=0.820, total=  20.0s\n",
      "[CV] n_estimators=846 ................................................\n",
      "[CV] .................... n_estimators=846, score=0.783, total=  20.4s\n",
      "[CV] n_estimators=846 ................................................\n",
      "[CV] .................... n_estimators=846, score=0.814, total=  20.3s\n",
      "[CV] n_estimators=4962 ...............................................\n",
      "[CV] ................... n_estimators=4962, score=0.800, total= 2.0min\n",
      "[CV] n_estimators=4962 ...............................................\n",
      "[CV] ................... n_estimators=4962, score=0.802, total= 2.1min\n",
      "[CV] n_estimators=4962 ...............................................\n",
      "[CV] ................... n_estimators=4962, score=0.808, total= 2.0min\n",
      "[CV] n_estimators=4962 ...............................................\n",
      "[CV] ................... n_estimators=4962, score=0.770, total= 2.0min\n",
      "[CV] n_estimators=4962 ...............................................\n",
      "[CV] ................... n_estimators=4962, score=0.798, total= 2.0min\n",
      "[CV] n_estimators=4100 ...............................................\n",
      "[CV] ................... n_estimators=4100, score=0.800, total= 1.7min\n",
      "[CV] n_estimators=4100 ...............................................\n",
      "[CV] ................... n_estimators=4100, score=0.805, total= 1.6min\n",
      "[CV] n_estimators=4100 ...............................................\n",
      "[CV] ................... n_estimators=4100, score=0.809, total= 1.7min\n",
      "[CV] n_estimators=4100 ...............................................\n",
      "[CV] ................... n_estimators=4100, score=0.772, total= 1.6min\n",
      "[CV] n_estimators=4100 ...............................................\n",
      "[CV] ................... n_estimators=4100, score=0.800, total= 1.7min\n",
      "[CV] n_estimators=318 ................................................\n",
      "[CV] .................... n_estimators=318, score=0.808, total=   7.6s\n",
      "[CV] n_estimators=318 ................................................\n",
      "[CV] .................... n_estimators=318, score=0.819, total=   7.7s\n",
      "[CV] n_estimators=318 ................................................\n",
      "[CV] .................... n_estimators=318, score=0.819, total=   7.7s\n",
      "[CV] n_estimators=318 ................................................\n",
      "[CV] .................... n_estimators=318, score=0.784, total=   7.7s\n",
      "[CV] n_estimators=318 ................................................\n",
      "[CV] .................... n_estimators=318, score=0.811, total=   7.7s\n",
      "[CV] n_estimators=81 .................................................\n",
      "[CV] ..................... n_estimators=81, score=0.792, total=   1.9s\n",
      "[CV] n_estimators=81 .................................................\n",
      "[CV] ..................... n_estimators=81, score=0.805, total=   2.1s\n",
      "[CV] n_estimators=81 .................................................\n",
      "[CV] ..................... n_estimators=81, score=0.803, total=   1.9s\n",
      "[CV] n_estimators=81 .................................................\n",
      "[CV] ..................... n_estimators=81, score=0.772, total=   2.0s\n",
      "[CV] n_estimators=81 .................................................\n",
      "[CV] ..................... n_estimators=81, score=0.796, total=   2.0s\n",
      "[CV] n_estimators=1039 ...............................................\n",
      "[CV] ................... n_estimators=1039, score=0.810, total=  24.9s\n",
      "[CV] n_estimators=1039 ...............................................\n",
      "[CV] ................... n_estimators=1039, score=0.822, total=  26.5s\n",
      "[CV] n_estimators=1039 ...............................................\n",
      "[CV] ................... n_estimators=1039, score=0.818, total=  25.1s\n",
      "[CV] n_estimators=1039 ...............................................\n",
      "[CV] ................... n_estimators=1039, score=0.784, total=  25.2s\n",
      "[CV] n_estimators=1039 ...............................................\n",
      "[CV] ................... n_estimators=1039, score=0.812, total=  25.0s\n"
     ]
    },
    {
     "name": "stderr",
     "output_type": "stream",
     "text": [
      "[Parallel(n_jobs=1)]: Done  50 out of  50 | elapsed: 34.9min finished\n"
     ]
    },
    {
     "data": {
      "text/plain": [
       "RandomizedSearchCV(estimator=GradientBoostingRegressor(),\n",
       "                   param_distributions={'n_estimators': array([  10,   11,   12, ..., 4997, 4998, 4999])},\n",
       "                   verbose=3)"
      ]
     },
     "execution_count": 27,
     "metadata": {},
     "output_type": "execute_result"
    }
   ],
   "source": [
    "# defining parameter range \n",
    "param_grid = {\"n_estimators\": np.arange(10, 5000)}\n",
    "  \n",
    "random_cv = RandomizedSearchCV(GradientBoostingRegressor(), param_grid, verbose = 3) \n",
    "  \n",
    "# fitting the model for grid search \n",
    "random_cv.fit(X, y)"
   ]
  },
  {
   "cell_type": "markdown",
   "metadata": {
    "colab_type": "text",
    "id": "VayXGRbDA433"
   },
   "source": [
    "Scikit-learn uses the negative mean absolute error for evaluation because it wants a metric to maximize. Therefore, a better score will be closer to 0. We can get the results of the randomized search into a dataframe, and sort the values by performance."
   ]
  },
  {
   "cell_type": "code",
   "execution_count": 28,
   "metadata": {
    "colab": {
     "base_uri": "https://localhost:8080/",
     "height": 172
    },
    "colab_type": "code",
    "executionInfo": {
     "elapsed": 1406,
     "status": "ok",
     "timestamp": 1583770606361,
     "user": {
      "displayName": "Sayan Dey",
      "photoUrl": "https://lh3.googleusercontent.com/a-/AOh14GhGdAaAMDWFJQH8pl6eFDU9flchgFMbU_GzEBhtcC8=s64",
      "userId": "03603580465490055794"
     },
     "user_tz": -330
    },
    "id": "Mhvo_RdtA436",
    "outputId": "d05b29f9-591c-47be-f580-4c53d8f5f72a"
   },
   "outputs": [
    {
     "data": {
      "text/plain": [
       "GradientBoostingRegressor(n_estimators=846)"
      ]
     },
     "execution_count": 28,
     "metadata": {},
     "output_type": "execute_result"
    }
   ],
   "source": [
    "random_cv.best_estimator_"
   ]
  },
  {
   "cell_type": "code",
   "execution_count": 29,
   "metadata": {
    "colab": {
     "base_uri": "https://localhost:8080/",
     "height": 34
    },
    "colab_type": "code",
    "executionInfo": {
     "elapsed": 1387,
     "status": "ok",
     "timestamp": 1583770630946,
     "user": {
      "displayName": "Sayan Dey",
      "photoUrl": "https://lh3.googleusercontent.com/a-/AOh14GhGdAaAMDWFJQH8pl6eFDU9flchgFMbU_GzEBhtcC8=s64",
      "userId": "03603580465490055794"
     },
     "user_tz": -330
    },
    "id": "K5mAH4GRFchb",
    "outputId": "c0d3a123-8fa5-4e0f-d891-154e18618ba8"
   },
   "outputs": [
    {
     "data": {
      "text/plain": [
       "0.8095903507324869"
      ]
     },
     "execution_count": 29,
     "metadata": {},
     "output_type": "execute_result"
    }
   ],
   "source": [
    "random_cv.best_score_"
   ]
  },
  {
   "cell_type": "code",
   "execution_count": 30,
   "metadata": {
    "colab": {
     "base_uri": "https://localhost:8080/",
     "height": 34
    },
    "colab_type": "code",
    "executionInfo": {
     "elapsed": 5256,
     "status": "ok",
     "timestamp": 1583770730417,
     "user": {
      "displayName": "Sayan Dey",
      "photoUrl": "https://lh3.googleusercontent.com/a-/AOh14GhGdAaAMDWFJQH8pl6eFDU9flchgFMbU_GzEBhtcC8=s64",
      "userId": "03603580465490055794"
     },
     "user_tz": -330
    },
    "id": "JJieu4rOFt9W",
    "outputId": "5a7afc0e-f8d6-40b6-f862-d01747456169"
   },
   "outputs": [
    {
     "name": "stdout",
     "output_type": "stream",
     "text": [
      "Gradient Boosted Regression Performance on the test set: MAE = 9.4381\n"
     ]
    }
   ],
   "source": [
    "gradient_boosted = GradientBoostingRegressor(n_estimators=846,random_state=42)\n",
    "gradient_boosted_mae = fit_and_evaluate(gradient_boosted)\n",
    "\n",
    "print('Gradient Boosted Regression Performance on the test set: MAE = %0.4f' % gradient_boosted_mae)"
   ]
  },
  {
   "cell_type": "markdown",
   "metadata": {
    "colab_type": "text",
    "id": "TZD0WwvCA44G"
   },
   "source": [
    "# Evaluate Final Model on the Test Set\n",
    "\n",
    "We will use the best model from hyperparameter tuning to make predictions on the testing set. Remember, our model has never seen the test set before, so this performance should be a good indicator of how the model would perform if deployed in the real world. \n",
    "\n",
    "For comparison, we can also look at the performance of the default model. The code below creates the final model, trains it (with timing), and evaluates on the test set. "
   ]
  },
  {
   "cell_type": "code",
   "execution_count": 33,
   "metadata": {
    "colab": {
     "base_uri": "https://localhost:8080/",
     "height": 172
    },
    "colab_type": "code",
    "executionInfo": {
     "elapsed": 1388,
     "status": "ok",
     "timestamp": 1583771250513,
     "user": {
      "displayName": "Sayan Dey",
      "photoUrl": "https://lh3.googleusercontent.com/a-/AOh14GhGdAaAMDWFJQH8pl6eFDU9flchgFMbU_GzEBhtcC8=s64",
      "userId": "03603580465490055794"
     },
     "user_tz": -330
    },
    "id": "gE7X_55UA44G",
    "outputId": "57663eee-f728-451d-c196-85df97bc756a"
   },
   "outputs": [
    {
     "data": {
      "text/plain": [
       "GradientBoostingRegressor(n_estimators=846, random_state=42)"
      ]
     },
     "execution_count": 33,
     "metadata": {},
     "output_type": "execute_result"
    }
   ],
   "source": [
    "# Default model\n",
    "default_model = GradientBoostingRegressor(random_state = 42)\n",
    "\n",
    "# Select the best model\n",
    "final_model = gradient_boosted\n",
    "\n",
    "final_model"
   ]
  },
  {
   "cell_type": "code",
   "execution_count": 34,
   "metadata": {
    "colab": {
     "base_uri": "https://localhost:8080/",
     "height": 34
    },
    "colab_type": "code",
    "executionInfo": {
     "elapsed": 5669,
     "status": "ok",
     "timestamp": 1583771262806,
     "user": {
      "displayName": "Sayan Dey",
      "photoUrl": "https://lh3.googleusercontent.com/a-/AOh14GhGdAaAMDWFJQH8pl6eFDU9flchgFMbU_GzEBhtcC8=s64",
      "userId": "03603580465490055794"
     },
     "user_tz": -330
    },
    "id": "dojCyBeZA44K",
    "outputId": "bb7bcb1d-c676-4f58-94c5-46f0dd3e7a4f"
   },
   "outputs": [
    {
     "name": "stdout",
     "output_type": "stream",
     "text": [
      "2.95 s ± 49.6 ms per loop (mean ± std. dev. of 5 runs, 1 loop each)\n"
     ]
    }
   ],
   "source": [
    "%%timeit -n 1 -r 5\n",
    "default_model.fit(X, y)"
   ]
  },
  {
   "cell_type": "code",
   "execution_count": 35,
   "metadata": {
    "colab": {
     "base_uri": "https://localhost:8080/",
     "height": 34
    },
    "colab_type": "code",
    "executionInfo": {
     "elapsed": 59553,
     "status": "ok",
     "timestamp": 1583771326054,
     "user": {
      "displayName": "Sayan Dey",
      "photoUrl": "https://lh3.googleusercontent.com/a-/AOh14GhGdAaAMDWFJQH8pl6eFDU9flchgFMbU_GzEBhtcC8=s64",
      "userId": "03603580465490055794"
     },
     "user_tz": -330
    },
    "id": "hb9LBdOdA44O",
    "outputId": "7c88f6a6-0036-4e25-c165-4eb015963fe6"
   },
   "outputs": [
    {
     "name": "stdout",
     "output_type": "stream",
     "text": [
      "25.4 s ± 561 ms per loop (mean ± std. dev. of 5 runs, 1 loop each)\n"
     ]
    }
   ],
   "source": [
    "%%timeit -n 1 -r 5\n",
    "final_model.fit(X, y)"
   ]
  },
  {
   "cell_type": "code",
   "execution_count": 36,
   "metadata": {
    "colab": {
     "base_uri": "https://localhost:8080/",
     "height": 51
    },
    "colab_type": "code",
    "executionInfo": {
     "elapsed": 1481,
     "status": "ok",
     "timestamp": 1583771384553,
     "user": {
      "displayName": "Sayan Dey",
      "photoUrl": "https://lh3.googleusercontent.com/a-/AOh14GhGdAaAMDWFJQH8pl6eFDU9flchgFMbU_GzEBhtcC8=s64",
      "userId": "03603580465490055794"
     },
     "user_tz": -330
    },
    "id": "d0R8UnhjIMoC",
    "outputId": "1c33cb35-03e7-4c55-b4ba-a373f02570b1"
   },
   "outputs": [
    {
     "name": "stdout",
     "output_type": "stream",
     "text": [
      "Default model performance on the test set: MAE = 10.0399.\n",
      "Final model performance on the test set:   MAE = 9.4381.\n"
     ]
    }
   ],
   "source": [
    "default_pred = default_model.predict(X_test)\n",
    "final_pred = final_model.predict(X_test)\n",
    "\n",
    "print('Default model performance on the test set: MAE = %0.4f.' % mae(y_test, default_pred))\n",
    "print('Final model performance on the test set:   MAE = %0.4f.' % mae(y_test, final_pred))"
   ]
  },
  {
   "cell_type": "markdown",
   "metadata": {
    "colab_type": "text",
    "id": "1sIIQnDiA44T"
   },
   "source": [
    "The final model does out-perform the baseline model, but at the cost of significantly increased running time (it's about 12 times slower on my machine). Machine learning is often a field of tradeoffs: bias vs variance, acccuracy vs interpretability, accuracy vs running time, and the final decision of which model to use depends on the situation. Here, the increase in run time is not an impediment, because while the relative difference is large, the absolute magnitude of the training time is not significant. In a different situation, the balance might not be the same so we would need to consider what we are optimizing for and the limitations we have to work with. \n",
    "\n",
    "To get a sense of the predictions, we can plot the distribution of true values on the test set and the predicted values on the test set. "
   ]
  },
  {
   "cell_type": "code",
   "execution_count": 37,
   "metadata": {
    "colab": {
     "base_uri": "https://localhost:8080/",
     "height": 564
    },
    "colab_type": "code",
    "executionInfo": {
     "elapsed": 1897,
     "status": "ok",
     "timestamp": 1583771389789,
     "user": {
      "displayName": "Sayan Dey",
      "photoUrl": "https://lh3.googleusercontent.com/a-/AOh14GhGdAaAMDWFJQH8pl6eFDU9flchgFMbU_GzEBhtcC8=s64",
      "userId": "03603580465490055794"
     },
     "user_tz": -330
    },
    "id": "tFko5iFMA44T",
    "outputId": "8b608f5a-9625-4503-ff6b-8b9deac56b8b"
   },
   "outputs": [
    {
     "data": {
      "text/plain": [
       "Text(0.5, 1.0, 'Test Values and Predictions')"
      ]
     },
     "execution_count": 37,
     "metadata": {},
     "output_type": "execute_result"
    },
    {
     "data": {
      "image/png": "[encoded data removed]",
      "text/plain": [
       "<Figure size 576x576 with 1 Axes>"
      ]
     },
     "metadata": {},
     "output_type": "display_data"
    }
   ],
   "source": [
    "plt.figure(figsize = (8, 8))\n",
    "\n",
    "# Density plot of the final predictions and the test values\n",
    "sns.kdeplot(final_pred, label = 'Predictions')\n",
    "sns.kdeplot(y_test, label = 'Values')\n",
    "\n",
    "# Label the plot\n",
    "plt.xlabel('Energy Star Score')\n",
    "plt.ylabel('Density')\n",
    "plt.title('Test Values and Predictions')"
   ]
  },
  {
   "cell_type": "markdown",
   "metadata": {
    "colab_type": "text",
    "id": "UkLM4nUzA44V"
   },
   "source": [
    "The distribution looks to be nearly the same although the density of the predicted values is closer to the median of the test values rather than to the actual peak at 100. It appears the model might be less accurate at predicting the extreme values and instead predicts values closer to the median. \n",
    "\n",
    "Another diagnostic plot is a histogram of the residuals. Ideally, we would hope that the residuals are normally distributed, meaning that the model is wrong the same amount in both directions (high and low). "
   ]
  },
  {
   "cell_type": "code",
   "execution_count": 38,
   "metadata": {
    "colab": {
     "base_uri": "https://localhost:8080/",
     "height": 564
    },
    "colab_type": "code",
    "executionInfo": {
     "elapsed": 1577,
     "status": "ok",
     "timestamp": 1583771397087,
     "user": {
      "displayName": "Sayan Dey",
      "photoUrl": "https://lh3.googleusercontent.com/a-/AOh14GhGdAaAMDWFJQH8pl6eFDU9flchgFMbU_GzEBhtcC8=s64",
      "userId": "03603580465490055794"
     },
     "user_tz": -330
    },
    "id": "fyzgswHhA44X",
    "outputId": "3f39d742-958c-4c5c-88c7-daaecf4fe534"
   },
   "outputs": [
    {
     "data": {
      "text/plain": [
       "Text(0.5, 1.0, 'Distribution of Residuals')"
      ]
     },
     "execution_count": 38,
     "metadata": {},
     "output_type": "execute_result"
    },
    {
     "data": {
      "image/png": "[encoded data removed]",
      "text/plain": [
       "<Figure size 432x432 with 1 Axes>"
      ]
     },
     "metadata": {},
     "output_type": "display_data"
    }
   ],
   "source": [
    "plt.figure(figsize = (6, 6))\n",
    "\n",
    "# Calculate the residuals \n",
    "residuals = final_pred - y_test\n",
    "\n",
    "# Plot the residuals in a histogram\n",
    "plt.hist(residuals, color = 'red', bins = 20, edgecolor = 'black')\n",
    "plt.xlabel('Error')\n",
    "plt.ylabel('Count')\n",
    "plt.title('Distribution of Residuals')"
   ]
  },
  {
   "cell_type": "markdown",
   "metadata": {
    "colab_type": "text",
    "id": "UrSg78PzA44Z"
   },
   "source": [
    "The residuals are close to normally disributed, with a few noticeable outliers on the low end. These indicate errors where the model estimate was far below that of the true value. "
   ]
  },
  {
   "cell_type": "markdown",
   "metadata": {
    "colab_type": "text",
    "id": "XD4S9i_pA44a"
   },
   "source": [
    "# Conclusions\n",
    "\n",
    "In this notebook, we covered crucial concepts in the machine learning pipeline:\n",
    "\n",
    "* Imputing missing values\n",
    "* Evaluating and comparing several machine learning methods\n",
    "* Hyperparameter tuning a machine learning model using random search and cross validation\n",
    "* Evaluating the best model on the testing set\n",
    "\n",
    "The results showed us that machine learning is applicable to our problem, with the final model able to the predict the Energy Star Score of a building to within 9.4 points. We also saw that hyperparamter tuning was able to improve the performance of the model although at a considerable cost in terms of time invested. This is a good reminder that proper feature engineering and gathering more data (if possible!) has a much larger pay-off than fine-tuning the model. We also observed the trade-off in run-time versus accuracy, which is one of many considerations we have to take into account when designing machine learning models. \n",
    "\n",
    "We know our model is accurate, but do we know why it makes the predictions it does? The next step in the machine learning process is crucial: trying to understand how the model makes predictions. Achieveing high accuracy is great, but it would also be helpful if we could figure out why the model is able to predict accurately so we could use this information to better understand the problem. For example, what features does the model rely on to infer the Energy Star Score? Is it possible to use this model for feature selection and implement a simpler model that is more interpretable? \n",
    "\n",
    "In the final notebook, we will try to answer these questions and draw final conclusions from the project!"
   ]
  },
  {
   "cell_type": "code",
   "execution_count": 40,
   "metadata": {
    "colab": {
     "base_uri": "https://localhost:8080/",
     "height": 777
    },
    "colab_type": "code",
    "executionInfo": {
     "elapsed": 9511,
     "status": "ok",
     "timestamp": 1583771832149,
     "user": {
      "displayName": "Sayan Dey",
      "photoUrl": "https://lh3.googleusercontent.com/a-/AOh14GhGdAaAMDWFJQH8pl6eFDU9flchgFMbU_GzEBhtcC8=s64",
      "userId": "03603580465490055794"
     },
     "user_tz": -330
    },
    "id": "sK-aAEOkJ6qv",
    "outputId": "0a3e16d1-2984-45cd-cee3-25f40f11e31f"
   },
   "outputs": [
    {
     "name": "stdout",
     "output_type": "stream",
     "text": [
      "Collecting TPOT\n",
      "  Downloading TPOT-0.11.5-py3-none-any.whl (82 kB)\n",
      "Requirement already satisfied: numpy>=1.16.3 in c:\\users\\staya\\anaconda3\\lib\\site-packages (from TPOT) (1.18.5)\n",
      "Requirement already satisfied: tqdm>=4.36.1 in c:\\users\\staya\\anaconda3\\lib\\site-packages (from TPOT) (4.47.0)\n",
      "Collecting update-checker>=0.16\n",
      "  Downloading update_checker-0.18.0-py3-none-any.whl (7.0 kB)\n",
      "Requirement already satisfied: joblib>=0.13.2 in c:\\users\\staya\\anaconda3\\lib\\site-packages (from TPOT) (0.16.0)\n",
      "Collecting stopit>=1.1.1\n",
      "  Downloading stopit-1.1.2.tar.gz (18 kB)\n",
      "Requirement already satisfied: scipy>=1.3.1 in c:\\users\\staya\\appdata\\roaming\\python\\python38\\site-packages (from TPOT) (1.4.1)\n",
      "Collecting deap>=1.2\n",
      "  Downloading deap-1.3.1-cp38-cp38-win_amd64.whl (108 kB)\n",
      "Requirement already satisfied: pandas>=0.24.2 in c:\\users\\staya\\anaconda3\\lib\\site-packages (from TPOT) (1.0.5)\n",
      "Requirement already satisfied: scikit-learn>=0.22.0 in c:\\users\\staya\\anaconda3\\lib\\site-packages (from TPOT) (0.23.1)\n",
      "Requirement already satisfied: requests>=2.3.0 in c:\\users\\staya\\anaconda3\\lib\\site-packages (from update-checker>=0.16->TPOT) (2.24.0)\n",
      "Requirement already satisfied: pytz>=2017.2 in c:\\users\\staya\\anaconda3\\lib\\site-packages (from pandas>=0.24.2->TPOT) (2020.1)\n",
      "Requirement already satisfied: python-dateutil>=2.6.1 in c:\\users\\staya\\anaconda3\\lib\\site-packages (from pandas>=0.24.2->TPOT) (2.8.1)\n",
      "Requirement already satisfied: threadpoolctl>=2.0.0 in c:\\users\\staya\\anaconda3\\lib\\site-packages (from scikit-learn>=0.22.0->TPOT) (2.1.0)\n",
      "Requirement already satisfied: urllib3!=1.25.0,!=1.25.1,<1.26,>=1.21.1 in c:\\users\\staya\\anaconda3\\lib\\site-packages (from requests>=2.3.0->update-checker>=0.16->TPOT) (1.25.9)\n",
      "Requirement already satisfied: idna<3,>=2.5 in c:\\users\\staya\\anaconda3\\lib\\site-packages (from requests>=2.3.0->update-checker>=0.16->TPOT) (2.10)\n",
      "Requirement already satisfied: certifi>=2017.4.17 in c:\\users\\staya\\anaconda3\\lib\\site-packages (from requests>=2.3.0->update-checker>=0.16->TPOT) (2020.6.20)\n",
      "Requirement already satisfied: chardet<4,>=3.0.2 in c:\\users\\staya\\anaconda3\\lib\\site-packages (from requests>=2.3.0->update-checker>=0.16->TPOT) (3.0.4)\n",
      "Requirement already satisfied: six>=1.5 in c:\\users\\staya\\anaconda3\\lib\\site-packages (from python-dateutil>=2.6.1->pandas>=0.24.2->TPOT) (1.15.0)\n",
      "Building wheels for collected packages: stopit\n",
      "  Building wheel for stopit (setup.py): started\n",
      "  Building wheel for stopit (setup.py): finished with status 'done'\n",
      "  Created wheel for stopit: filename=stopit-1.1.2-py3-none-any.whl size=11959 sha256=534f24bc42f94db7b3fe247ea3b62e48c2e05071e38d2a9bd58c400cb817dfb3\n",
      "  Stored in directory: c:\\users\\staya\\appdata\\local\\pip\\cache\\wheels\\a8\\bb\\8f\\6b9328d23c2dcedbfeb8498b9f650d55d463089e3b8fc0bfb2\n",
      "Successfully built stopit\n",
      "Installing collected packages: update-checker, stopit, deap, TPOT\n",
      "Successfully installed TPOT-0.11.5 deap-1.3.1 stopit-1.1.2 update-checker-0.18.0\n"
     ]
    }
   ],
   "source": [
    "!pip install TPOT"
   ]
  },
  {
   "cell_type": "code",
   "execution_count": 41,
   "metadata": {
    "colab": {},
    "colab_type": "code",
    "id": "9Eom0-OwJ25I"
   },
   "outputs": [
    {
     "name": "stderr",
     "output_type": "stream",
     "text": [
      "C:\\Users\\staya\\anaconda3\\lib\\site-packages\\tpot\\builtins\\__init__.py:36: UserWarning: Warning: optional dependency `torch` is not available. - skipping import of NN models.\n",
      "  warnings.warn(\"Warning: optional dependency `torch` is not available. - skipping import of NN models.\")\n"
     ]
    }
   ],
   "source": [
    "from tpot import TPOTRegressor"
   ]
  },
  {
   "cell_type": "code",
   "execution_count": null,
   "metadata": {
    "colab": {},
    "colab_type": "code",
    "id": "6WLeSDBxKJYq"
   },
   "outputs": [
    {
     "data": {
      "application/vnd.jupyter.widget-view+json": {
       "model_id": "cafdb2203a1e40c2a54befa1ea47af03",
       "version_major": 2,
       "version_minor": 0
      },
      "text/plain": [
       "HBox(children=(FloatProgress(value=0.0, description='Optimization Progress', max=300.0, style=ProgressStyle(de…"
      ]
     },
     "metadata": {},
     "output_type": "display_data"
    }
   ],
   "source": [
    "tpot = TPOTRegressor(generations=5, population_size=50, verbosity=2, random_state=42)\n",
    "tpot.fit(X, y)\n",
    "print(tpot.score(X_test, y_test))\n",
    "tpot.export('tpot_exported_pipeline.py')"
   ]
  },
  {
   "cell_type": "code",
   "execution_count": 0,
   "metadata": {
    "colab": {},
    "colab_type": "code",
    "id": "BhRQzTwDcW3R"
   },
   "outputs": [],
   "source": []
  }
 ],
 "metadata": {
  "accelerator": "GPU",
  "colab": {
   "collapsed_sections": [],
   "name": "Machine Learning Project Part 2.ipynb",
   "provenance": []
  },
  "kernelspec": {
   "display_name": "Python 3",
   "language": "python",
   "name": "python3"
  },
  "language_info": {
   "codemirror_mode": {
    "name": "ipython",
    "version": 3
   },
   "file_extension": ".py",
   "mimetype": "text/x-python",
   "name": "python",
   "nbconvert_exporter": "python",
   "pygments_lexer": "ipython3",
   "version": "3.8.3"
  }
 },
 "nbformat": 4,
 "nbformat_minor": 1
}
